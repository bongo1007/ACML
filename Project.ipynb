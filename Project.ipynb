{
 "cells": [
  {
   "cell_type": "markdown",
   "metadata": {},
   "source": [
    "## Loan Approval Prediction "
   ]
  },
  {
   "cell_type": "markdown",
   "metadata": {},
   "source": [
    "### Authors : \n",
    "- Mike Vogt\n",
    "- Nicholas Baard\n",
    "- Goolam Fareed Bangie"
   ]
  },
  {
   "cell_type": "markdown",
   "metadata": {},
   "source": [
    "#### Purpose:\n",
    "The aim of this project is to predict whether or not a person should be approved for a loan depending on the past information of the person"
   ]
  },
  {
   "cell_type": "markdown",
   "metadata": {},
   "source": [
    "Firstly , important basic libraries need to be imported "
   ]
  },
  {
   "cell_type": "code",
   "execution_count": 1,
   "metadata": {},
   "outputs": [],
   "source": [
    "import pandas as pd\n",
    "import numpy as np\n",
    "import math\n",
    "import matplotlib.pyplot as plt\n",
    "import seaborn as sns\n",
    "from sklearn.tree import DecisionTreeClassifier\n",
    "from sklearn.metrics import accuracy_score,confusion_matrix,log_loss\n",
    "from sklearn.model_selection import train_test_split\n",
    "from sklearn.linear_model import LogisticRegression\n",
    "from scipy.special import expit\n",
    "np.set_printoptions(suppress=True)\n",
    "from sklearn.metrics import classification_report, confusion_matrix"
   ]
  },
  {
   "cell_type": "markdown",
   "metadata": {},
   "source": [
    "The dataset for the project needs to be loaded"
   ]
  },
  {
   "cell_type": "code",
   "execution_count": 2,
   "metadata": {},
   "outputs": [],
   "source": [
    "data = pd.read_csv('train_data.csv',delimiter=',')"
   ]
  },
  {
   "cell_type": "code",
   "execution_count": 3,
   "metadata": {},
   "outputs": [
    {
     "data": {
      "text/html": [
       "<div>\n",
       "<style scoped>\n",
       "    .dataframe tbody tr th:only-of-type {\n",
       "        vertical-align: middle;\n",
       "    }\n",
       "\n",
       "    .dataframe tbody tr th {\n",
       "        vertical-align: top;\n",
       "    }\n",
       "\n",
       "    .dataframe thead th {\n",
       "        text-align: right;\n",
       "    }\n",
       "</style>\n",
       "<table border=\"1\" class=\"dataframe\">\n",
       "  <thead>\n",
       "    <tr style=\"text-align: right;\">\n",
       "      <th></th>\n",
       "      <th>Loan_ID</th>\n",
       "      <th>Gender</th>\n",
       "      <th>Married</th>\n",
       "      <th>Dependents</th>\n",
       "      <th>Education</th>\n",
       "      <th>Self_Employed</th>\n",
       "      <th>ApplicantIncome</th>\n",
       "      <th>CoapplicantIncome</th>\n",
       "      <th>LoanAmount</th>\n",
       "      <th>Loan_Amount_Term</th>\n",
       "      <th>Credit_History</th>\n",
       "      <th>Property_Area</th>\n",
       "      <th>Loan_Status</th>\n",
       "    </tr>\n",
       "  </thead>\n",
       "  <tbody>\n",
       "    <tr>\n",
       "      <th>0</th>\n",
       "      <td>LP001002</td>\n",
       "      <td>Male</td>\n",
       "      <td>No</td>\n",
       "      <td>0</td>\n",
       "      <td>Graduate</td>\n",
       "      <td>No</td>\n",
       "      <td>5849</td>\n",
       "      <td>0.0</td>\n",
       "      <td>NaN</td>\n",
       "      <td>360.0</td>\n",
       "      <td>1.0</td>\n",
       "      <td>Urban</td>\n",
       "      <td>Y</td>\n",
       "    </tr>\n",
       "    <tr>\n",
       "      <th>1</th>\n",
       "      <td>LP001003</td>\n",
       "      <td>Male</td>\n",
       "      <td>Yes</td>\n",
       "      <td>1</td>\n",
       "      <td>Graduate</td>\n",
       "      <td>No</td>\n",
       "      <td>4583</td>\n",
       "      <td>1508.0</td>\n",
       "      <td>128.0</td>\n",
       "      <td>360.0</td>\n",
       "      <td>1.0</td>\n",
       "      <td>Rural</td>\n",
       "      <td>N</td>\n",
       "    </tr>\n",
       "    <tr>\n",
       "      <th>2</th>\n",
       "      <td>LP001005</td>\n",
       "      <td>Male</td>\n",
       "      <td>Yes</td>\n",
       "      <td>0</td>\n",
       "      <td>Graduate</td>\n",
       "      <td>Yes</td>\n",
       "      <td>3000</td>\n",
       "      <td>0.0</td>\n",
       "      <td>66.0</td>\n",
       "      <td>360.0</td>\n",
       "      <td>1.0</td>\n",
       "      <td>Urban</td>\n",
       "      <td>Y</td>\n",
       "    </tr>\n",
       "    <tr>\n",
       "      <th>3</th>\n",
       "      <td>LP001006</td>\n",
       "      <td>Male</td>\n",
       "      <td>Yes</td>\n",
       "      <td>0</td>\n",
       "      <td>Not Graduate</td>\n",
       "      <td>No</td>\n",
       "      <td>2583</td>\n",
       "      <td>2358.0</td>\n",
       "      <td>120.0</td>\n",
       "      <td>360.0</td>\n",
       "      <td>1.0</td>\n",
       "      <td>Urban</td>\n",
       "      <td>Y</td>\n",
       "    </tr>\n",
       "    <tr>\n",
       "      <th>4</th>\n",
       "      <td>LP001008</td>\n",
       "      <td>Male</td>\n",
       "      <td>No</td>\n",
       "      <td>0</td>\n",
       "      <td>Graduate</td>\n",
       "      <td>No</td>\n",
       "      <td>6000</td>\n",
       "      <td>0.0</td>\n",
       "      <td>141.0</td>\n",
       "      <td>360.0</td>\n",
       "      <td>1.0</td>\n",
       "      <td>Urban</td>\n",
       "      <td>Y</td>\n",
       "    </tr>\n",
       "  </tbody>\n",
       "</table>\n",
       "</div>"
      ],
      "text/plain": [
       "    Loan_ID Gender Married Dependents     Education Self_Employed  \\\n",
       "0  LP001002   Male      No          0      Graduate            No   \n",
       "1  LP001003   Male     Yes          1      Graduate            No   \n",
       "2  LP001005   Male     Yes          0      Graduate           Yes   \n",
       "3  LP001006   Male     Yes          0  Not Graduate            No   \n",
       "4  LP001008   Male      No          0      Graduate            No   \n",
       "\n",
       "   ApplicantIncome  CoapplicantIncome  LoanAmount  Loan_Amount_Term  \\\n",
       "0             5849                0.0         NaN             360.0   \n",
       "1             4583             1508.0       128.0             360.0   \n",
       "2             3000                0.0        66.0             360.0   \n",
       "3             2583             2358.0       120.0             360.0   \n",
       "4             6000                0.0       141.0             360.0   \n",
       "\n",
       "   Credit_History Property_Area Loan_Status  \n",
       "0             1.0         Urban           Y  \n",
       "1             1.0         Rural           N  \n",
       "2             1.0         Urban           Y  \n",
       "3             1.0         Urban           Y  \n",
       "4             1.0         Urban           Y  "
      ]
     },
     "execution_count": 3,
     "metadata": {},
     "output_type": "execute_result"
    }
   ],
   "source": [
    "data.head()"
   ]
  },
  {
   "cell_type": "markdown",
   "metadata": {},
   "source": [
    "Determine the data types each variable belongs to and if there any nulls in the variables"
   ]
  },
  {
   "cell_type": "code",
   "execution_count": 4,
   "metadata": {},
   "outputs": [
    {
     "name": "stdout",
     "output_type": "stream",
     "text": [
      "<class 'pandas.core.frame.DataFrame'>\n",
      "RangeIndex: 614 entries, 0 to 613\n",
      "Data columns (total 13 columns):\n",
      " #   Column             Non-Null Count  Dtype  \n",
      "---  ------             --------------  -----  \n",
      " 0   Loan_ID            614 non-null    object \n",
      " 1   Gender             601 non-null    object \n",
      " 2   Married            611 non-null    object \n",
      " 3   Dependents         599 non-null    object \n",
      " 4   Education          614 non-null    object \n",
      " 5   Self_Employed      582 non-null    object \n",
      " 6   ApplicantIncome    614 non-null    int64  \n",
      " 7   CoapplicantIncome  614 non-null    float64\n",
      " 8   LoanAmount         592 non-null    float64\n",
      " 9   Loan_Amount_Term   600 non-null    float64\n",
      " 10  Credit_History     564 non-null    float64\n",
      " 11  Property_Area      614 non-null    object \n",
      " 12  Loan_Status        614 non-null    object \n",
      "dtypes: float64(4), int64(1), object(8)\n",
      "memory usage: 62.5+ KB\n"
     ]
    }
   ],
   "source": [
    "data.info()"
   ]
  },
  {
   "cell_type": "markdown",
   "metadata": {},
   "source": [
    "Under the non-null count column above , the count for every variable is not 614 indicating certain variables contain nulls.\n",
    "Certain variables are categorical while others are numerical , one hot encoding(for variables with only 2 unique values) and label encoding(for variables with more than 2 unique values/variables with some sort of order) will be done to convert the categorical data to numerical data for ease when working with the different machine learning algorithms. "
   ]
  },
  {
   "cell_type": "markdown",
   "metadata": {},
   "source": [
    "The size of the dataset is determined below"
   ]
  },
  {
   "cell_type": "code",
   "execution_count": 5,
   "metadata": {},
   "outputs": [
    {
     "name": "stdout",
     "output_type": "stream",
     "text": [
      "No of rows: 614\n",
      "No of columns: 13\n"
     ]
    }
   ],
   "source": [
    "print(\"No of rows:\",data.shape[0])\n",
    "print(\"No of columns:\",data.shape[1])"
   ]
  },
  {
   "cell_type": "markdown",
   "metadata": {},
   "source": [
    "Determine the number of nulls per variable"
   ]
  },
  {
   "cell_type": "code",
   "execution_count": 6,
   "metadata": {},
   "outputs": [
    {
     "data": {
      "text/plain": [
       "Loan_ID               0\n",
       "Gender               13\n",
       "Married               3\n",
       "Dependents           15\n",
       "Education             0\n",
       "Self_Employed        32\n",
       "ApplicantIncome       0\n",
       "CoapplicantIncome     0\n",
       "LoanAmount           22\n",
       "Loan_Amount_Term     14\n",
       "Credit_History       50\n",
       "Property_Area         0\n",
       "Loan_Status           0\n",
       "dtype: int64"
      ]
     },
     "execution_count": 6,
     "metadata": {},
     "output_type": "execute_result"
    }
   ],
   "source": [
    "data.isnull().sum()"
   ]
  },
  {
   "cell_type": "markdown",
   "metadata": {},
   "source": [
    "Nulls need to be filled in or dropped , Loan Amount, Loan_Amount_Term and Credit_History will be filled in with statistical values while the remaining nulls in the other variables will be dropped due to the fact that they are categorical and can't be filled in with statistical values. Loan Amount and Loan_Amount_Term nulls will be filled in with the current mean of Loan Amount and Loan_Amount_Term respectively while Credit_History will be filled in with its current median. "
   ]
  },
  {
   "cell_type": "code",
   "execution_count": 7,
   "metadata": {},
   "outputs": [],
   "source": [
    "mean_LoanAmount = data[\"LoanAmount\"].mean()\n",
    "data[\"LoanAmount\"] = data[\"LoanAmount\"].fillna(mean_LoanAmount)\n",
    "\n",
    "mean_LoanAmount_Term = data[\"Loan_Amount_Term\"].mean()\n",
    "data[\"Loan_Amount_Term\"] = data[\"Loan_Amount_Term\"].fillna(mean_LoanAmount_Term)\n",
    "\n",
    "median_Credit_History = data[\"Credit_History\"].median()\n",
    "data[\"Credit_History\"] = data[\"Credit_History\"].fillna(median_Credit_History)\n",
    "\n",
    "data.dropna(inplace=True)"
   ]
  },
  {
   "cell_type": "code",
   "execution_count": 8,
   "metadata": {},
   "outputs": [
    {
     "data": {
      "text/plain": [
       "(554, 13)"
      ]
     },
     "execution_count": 8,
     "metadata": {},
     "output_type": "execute_result"
    }
   ],
   "source": [
    "data.shape"
   ]
  },
  {
   "cell_type": "markdown",
   "metadata": {},
   "source": [
    "Converting Loan_Status to a numerical value"
   ]
  },
  {
   "cell_type": "code",
   "execution_count": 9,
   "metadata": {},
   "outputs": [],
   "source": [
    "data[\"Loan_Status\"].replace('N',0,inplace=True)\n",
    "data[\"Loan_Status\"].replace('Y',1,inplace=True)"
   ]
  },
  {
   "cell_type": "code",
   "execution_count": 10,
   "metadata": {},
   "outputs": [
    {
     "data": {
      "text/plain": [
       "<matplotlib.axes._subplots.AxesSubplot at 0x241a6ce9488>"
      ]
     },
     "execution_count": 10,
     "metadata": {},
     "output_type": "execute_result"
    },
    {
     "data": {
      "image/png": "[encoded data removed]",
      "text/plain": [
       "<Figure size 432x288 with 2 Axes>"
      ]
     },
     "metadata": {
      "needs_background": "light"
     },
     "output_type": "display_data"
    }
   ],
   "source": [
    "plt.title(\"Correlation Matrix of Continuous Variables\")\n",
    "corr = data.corr()\n",
    "sns.heatmap(corr,annot=True)"
   ]
  },
  {
   "cell_type": "markdown",
   "metadata": {},
   "source": [
    "It is quite clear that only Credit_History has a relationship with Loan_Status as the correlations between the other continuous variables and Loan_Status is very close to 0. For now we won't drop these columns which will allow us to compare the accuracy we get from models including these variables with models that don't contain these variables."
   ]
  },
  {
   "cell_type": "code",
   "execution_count": 11,
   "metadata": {},
   "outputs": [
    {
     "data": {
      "text/plain": [
       "Loan_ID               object\n",
       "Gender                object\n",
       "Married               object\n",
       "Dependents            object\n",
       "Education             object\n",
       "Self_Employed         object\n",
       "ApplicantIncome        int64\n",
       "CoapplicantIncome    float64\n",
       "LoanAmount           float64\n",
       "Loan_Amount_Term     float64\n",
       "Credit_History       float64\n",
       "Property_Area         object\n",
       "Loan_Status            int64\n",
       "dtype: object"
      ]
     },
     "execution_count": 11,
     "metadata": {},
     "output_type": "execute_result"
    }
   ],
   "source": [
    "data.dtypes"
   ]
  },
  {
   "cell_type": "code",
   "execution_count": 12,
   "metadata": {},
   "outputs": [],
   "source": [
    "data = data.iloc[:,1:]"
   ]
  },
  {
   "cell_type": "markdown",
   "metadata": {},
   "source": [
    "We remove the first column from the dataframe as it is just an index for the observations and will not be used in the respective machine learning algorithms."
   ]
  },
  {
   "cell_type": "code",
   "execution_count": 13,
   "metadata": {},
   "outputs": [],
   "source": [
    "from sklearn.preprocessing import LabelEncoder \n",
    "LE = LabelEncoder()"
   ]
  },
  {
   "cell_type": "code",
   "execution_count": 14,
   "metadata": {},
   "outputs": [
    {
     "data": {
      "text/html": [
       "<div>\n",
       "<style scoped>\n",
       "    .dataframe tbody tr th:only-of-type {\n",
       "        vertical-align: middle;\n",
       "    }\n",
       "\n",
       "    .dataframe tbody tr th {\n",
       "        vertical-align: top;\n",
       "    }\n",
       "\n",
       "    .dataframe thead th {\n",
       "        text-align: right;\n",
       "    }\n",
       "</style>\n",
       "<table border=\"1\" class=\"dataframe\">\n",
       "  <thead>\n",
       "    <tr style=\"text-align: right;\">\n",
       "      <th></th>\n",
       "      <th>Dependents</th>\n",
       "      <th>ApplicantIncome</th>\n",
       "      <th>CoapplicantIncome</th>\n",
       "      <th>LoanAmount</th>\n",
       "      <th>Loan_Amount_Term</th>\n",
       "      <th>Credit_History</th>\n",
       "      <th>Property_Area</th>\n",
       "      <th>Loan_Status</th>\n",
       "      <th>Gender_Female</th>\n",
       "      <th>Gender_Male</th>\n",
       "      <th>Married_No</th>\n",
       "      <th>Married_Yes</th>\n",
       "      <th>Education_Graduate</th>\n",
       "      <th>Education_Not Graduate</th>\n",
       "      <th>Self_Employed_No</th>\n",
       "      <th>Self_Employed_Yes</th>\n",
       "    </tr>\n",
       "  </thead>\n",
       "  <tbody>\n",
       "    <tr>\n",
       "      <th>0</th>\n",
       "      <td>0</td>\n",
       "      <td>5849</td>\n",
       "      <td>0.0</td>\n",
       "      <td>146.412162</td>\n",
       "      <td>360.0</td>\n",
       "      <td>1.0</td>\n",
       "      <td>2</td>\n",
       "      <td>1</td>\n",
       "      <td>0</td>\n",
       "      <td>1</td>\n",
       "      <td>1</td>\n",
       "      <td>0</td>\n",
       "      <td>1</td>\n",
       "      <td>0</td>\n",
       "      <td>1</td>\n",
       "      <td>0</td>\n",
       "    </tr>\n",
       "    <tr>\n",
       "      <th>1</th>\n",
       "      <td>1</td>\n",
       "      <td>4583</td>\n",
       "      <td>1508.0</td>\n",
       "      <td>128.000000</td>\n",
       "      <td>360.0</td>\n",
       "      <td>1.0</td>\n",
       "      <td>0</td>\n",
       "      <td>0</td>\n",
       "      <td>0</td>\n",
       "      <td>1</td>\n",
       "      <td>0</td>\n",
       "      <td>1</td>\n",
       "      <td>1</td>\n",
       "      <td>0</td>\n",
       "      <td>1</td>\n",
       "      <td>0</td>\n",
       "    </tr>\n",
       "    <tr>\n",
       "      <th>2</th>\n",
       "      <td>0</td>\n",
       "      <td>3000</td>\n",
       "      <td>0.0</td>\n",
       "      <td>66.000000</td>\n",
       "      <td>360.0</td>\n",
       "      <td>1.0</td>\n",
       "      <td>2</td>\n",
       "      <td>1</td>\n",
       "      <td>0</td>\n",
       "      <td>1</td>\n",
       "      <td>0</td>\n",
       "      <td>1</td>\n",
       "      <td>1</td>\n",
       "      <td>0</td>\n",
       "      <td>0</td>\n",
       "      <td>1</td>\n",
       "    </tr>\n",
       "    <tr>\n",
       "      <th>3</th>\n",
       "      <td>0</td>\n",
       "      <td>2583</td>\n",
       "      <td>2358.0</td>\n",
       "      <td>120.000000</td>\n",
       "      <td>360.0</td>\n",
       "      <td>1.0</td>\n",
       "      <td>2</td>\n",
       "      <td>1</td>\n",
       "      <td>0</td>\n",
       "      <td>1</td>\n",
       "      <td>0</td>\n",
       "      <td>1</td>\n",
       "      <td>0</td>\n",
       "      <td>1</td>\n",
       "      <td>1</td>\n",
       "      <td>0</td>\n",
       "    </tr>\n",
       "    <tr>\n",
       "      <th>4</th>\n",
       "      <td>0</td>\n",
       "      <td>6000</td>\n",
       "      <td>0.0</td>\n",
       "      <td>141.000000</td>\n",
       "      <td>360.0</td>\n",
       "      <td>1.0</td>\n",
       "      <td>2</td>\n",
       "      <td>1</td>\n",
       "      <td>0</td>\n",
       "      <td>1</td>\n",
       "      <td>1</td>\n",
       "      <td>0</td>\n",
       "      <td>1</td>\n",
       "      <td>0</td>\n",
       "      <td>1</td>\n",
       "      <td>0</td>\n",
       "    </tr>\n",
       "  </tbody>\n",
       "</table>\n",
       "</div>"
      ],
      "text/plain": [
       "   Dependents  ApplicantIncome  CoapplicantIncome  LoanAmount  \\\n",
       "0           0             5849                0.0  146.412162   \n",
       "1           1             4583             1508.0  128.000000   \n",
       "2           0             3000                0.0   66.000000   \n",
       "3           0             2583             2358.0  120.000000   \n",
       "4           0             6000                0.0  141.000000   \n",
       "\n",
       "   Loan_Amount_Term  Credit_History  Property_Area  Loan_Status  \\\n",
       "0             360.0             1.0              2            1   \n",
       "1             360.0             1.0              0            0   \n",
       "2             360.0             1.0              2            1   \n",
       "3             360.0             1.0              2            1   \n",
       "4             360.0             1.0              2            1   \n",
       "\n",
       "   Gender_Female  Gender_Male  Married_No  Married_Yes  Education_Graduate  \\\n",
       "0              0            1           1            0                   1   \n",
       "1              0            1           0            1                   1   \n",
       "2              0            1           0            1                   1   \n",
       "3              0            1           0            1                   0   \n",
       "4              0            1           1            0                   1   \n",
       "\n",
       "   Education_Not Graduate  Self_Employed_No  Self_Employed_Yes  \n",
       "0                       0                 1                  0  \n",
       "1                       0                 1                  0  \n",
       "2                       0                 0                  1  \n",
       "3                       1                 1                  0  \n",
       "4                       0                 1                  0  "
      ]
     },
     "execution_count": 14,
     "metadata": {},
     "output_type": "execute_result"
    }
   ],
   "source": [
    "data[\"Property_Area\"] = LE.fit_transform(data[\"Property_Area\"])\n",
    "\n",
    "data[\"Dependents\"] = LE.fit_transform(data[\"Dependents\"])\n",
    "\n",
    "data = pd.get_dummies(data)\n",
    "\n",
    "data.head()"
   ]
  },
  {
   "cell_type": "code",
   "execution_count": 15,
   "metadata": {},
   "outputs": [],
   "source": [
    "data = data.sample(frac=1,random_state=10).reset_index(drop=True)\n",
    "\n",
    "Y = data[\"Loan_Status\"]\n",
    "X = data.drop(\"Loan_Status\",1)"
   ]
  },
  {
   "cell_type": "markdown",
   "metadata": {},
   "source": [
    "We first make sure every variable is numerical before the training and so we perform label encoding on the Propert_Area and Dependents variables.\n",
    "Now that every variable is numerical , training and testing datasets can be specified from this original dataset. We shuffle the data as it helps the training converge fast, prevents any bias during the training and prevents the model from learning the order of the training."
   ]
  },
  {
   "cell_type": "code",
   "execution_count": 16,
   "metadata": {},
   "outputs": [
    {
     "data": {
      "text/html": [
       "<div>\n",
       "<style scoped>\n",
       "    .dataframe tbody tr th:only-of-type {\n",
       "        vertical-align: middle;\n",
       "    }\n",
       "\n",
       "    .dataframe tbody tr th {\n",
       "        vertical-align: top;\n",
       "    }\n",
       "\n",
       "    .dataframe thead th {\n",
       "        text-align: right;\n",
       "    }\n",
       "</style>\n",
       "<table border=\"1\" class=\"dataframe\">\n",
       "  <thead>\n",
       "    <tr style=\"text-align: right;\">\n",
       "      <th></th>\n",
       "      <th>Dependents</th>\n",
       "      <th>ApplicantIncome</th>\n",
       "      <th>CoapplicantIncome</th>\n",
       "      <th>LoanAmount</th>\n",
       "      <th>Loan_Amount_Term</th>\n",
       "      <th>Credit_History</th>\n",
       "      <th>Property_Area</th>\n",
       "      <th>Gender_Female</th>\n",
       "      <th>Gender_Male</th>\n",
       "      <th>Married_No</th>\n",
       "      <th>Married_Yes</th>\n",
       "      <th>Education_Graduate</th>\n",
       "      <th>Education_Not Graduate</th>\n",
       "      <th>Self_Employed_No</th>\n",
       "      <th>Self_Employed_Yes</th>\n",
       "    </tr>\n",
       "  </thead>\n",
       "  <tbody>\n",
       "    <tr>\n",
       "      <th>0</th>\n",
       "      <td>0</td>\n",
       "      <td>18165</td>\n",
       "      <td>0.000000</td>\n",
       "      <td>125.0</td>\n",
       "      <td>360.0</td>\n",
       "      <td>1.0</td>\n",
       "      <td>2</td>\n",
       "      <td>1</td>\n",
       "      <td>0</td>\n",
       "      <td>1</td>\n",
       "      <td>0</td>\n",
       "      <td>0</td>\n",
       "      <td>1</td>\n",
       "      <td>0</td>\n",
       "      <td>1</td>\n",
       "    </tr>\n",
       "    <tr>\n",
       "      <th>1</th>\n",
       "      <td>2</td>\n",
       "      <td>5935</td>\n",
       "      <td>0.000000</td>\n",
       "      <td>133.0</td>\n",
       "      <td>360.0</td>\n",
       "      <td>1.0</td>\n",
       "      <td>1</td>\n",
       "      <td>0</td>\n",
       "      <td>1</td>\n",
       "      <td>0</td>\n",
       "      <td>1</td>\n",
       "      <td>1</td>\n",
       "      <td>0</td>\n",
       "      <td>1</td>\n",
       "      <td>0</td>\n",
       "    </tr>\n",
       "    <tr>\n",
       "      <th>2</th>\n",
       "      <td>2</td>\n",
       "      <td>3427</td>\n",
       "      <td>0.000000</td>\n",
       "      <td>138.0</td>\n",
       "      <td>360.0</td>\n",
       "      <td>1.0</td>\n",
       "      <td>2</td>\n",
       "      <td>1</td>\n",
       "      <td>0</td>\n",
       "      <td>1</td>\n",
       "      <td>0</td>\n",
       "      <td>1</td>\n",
       "      <td>0</td>\n",
       "      <td>1</td>\n",
       "      <td>0</td>\n",
       "    </tr>\n",
       "    <tr>\n",
       "      <th>3</th>\n",
       "      <td>0</td>\n",
       "      <td>2920</td>\n",
       "      <td>16.120001</td>\n",
       "      <td>87.0</td>\n",
       "      <td>360.0</td>\n",
       "      <td>1.0</td>\n",
       "      <td>0</td>\n",
       "      <td>0</td>\n",
       "      <td>1</td>\n",
       "      <td>0</td>\n",
       "      <td>1</td>\n",
       "      <td>1</td>\n",
       "      <td>0</td>\n",
       "      <td>1</td>\n",
       "      <td>0</td>\n",
       "    </tr>\n",
       "    <tr>\n",
       "      <th>4</th>\n",
       "      <td>2</td>\n",
       "      <td>3859</td>\n",
       "      <td>0.000000</td>\n",
       "      <td>96.0</td>\n",
       "      <td>360.0</td>\n",
       "      <td>1.0</td>\n",
       "      <td>1</td>\n",
       "      <td>0</td>\n",
       "      <td>1</td>\n",
       "      <td>0</td>\n",
       "      <td>1</td>\n",
       "      <td>1</td>\n",
       "      <td>0</td>\n",
       "      <td>1</td>\n",
       "      <td>0</td>\n",
       "    </tr>\n",
       "  </tbody>\n",
       "</table>\n",
       "</div>"
      ],
      "text/plain": [
       "   Dependents  ApplicantIncome  CoapplicantIncome  LoanAmount  \\\n",
       "0           0            18165           0.000000       125.0   \n",
       "1           2             5935           0.000000       133.0   \n",
       "2           2             3427           0.000000       138.0   \n",
       "3           0             2920          16.120001        87.0   \n",
       "4           2             3859           0.000000        96.0   \n",
       "\n",
       "   Loan_Amount_Term  Credit_History  Property_Area  Gender_Female  \\\n",
       "0             360.0             1.0              2              1   \n",
       "1             360.0             1.0              1              0   \n",
       "2             360.0             1.0              2              1   \n",
       "3             360.0             1.0              0              0   \n",
       "4             360.0             1.0              1              0   \n",
       "\n",
       "   Gender_Male  Married_No  Married_Yes  Education_Graduate  \\\n",
       "0            0           1            0                   0   \n",
       "1            1           0            1                   1   \n",
       "2            0           1            0                   1   \n",
       "3            1           0            1                   1   \n",
       "4            1           0            1                   1   \n",
       "\n",
       "   Education_Not Graduate  Self_Employed_No  Self_Employed_Yes  \n",
       "0                       1                 0                  1  \n",
       "1                       0                 1                  0  \n",
       "2                       0                 1                  0  \n",
       "3                       0                 1                  0  \n",
       "4                       0                 1                  0  "
      ]
     },
     "metadata": {},
     "output_type": "display_data"
    },
    {
     "name": "stdout",
     "output_type": "stream",
     "text": [
      "(443,)\n",
      "(111, 15)\n",
      "(111,)\n"
     ]
    }
   ],
   "source": [
    "train_number = int(data.shape[0]*(80/100)) # calculate number of training examples\n",
    "train_data = X.iloc[0:train_number,0:15] # split data into training data using the number calculated above\n",
    "train_y = Y.iloc[0:train_number] # split target values into training target values\n",
    "train_y = train_y.astype('int32') # convert labels to integer \n",
    "test_data = X.iloc[train_number:,0:15] # get test data from full data \n",
    "test_y = Y.iloc[train_number:] # get test target values from full dat\n",
    "test_y = test_y.astype('int32') # convert labels to integer\n",
    "display(train_data.head())\n",
    "print(train_y.shape)\n",
    "print(test_data.shape)\n",
    "print(test_y.shape)"
   ]
  },
  {
   "cell_type": "markdown",
   "metadata": {},
   "source": [
    "### Logistic Regression Classifier"
   ]
  },
  {
   "cell_type": "markdown",
   "metadata": {},
   "source": [
    "We first reload the dataframe as there will be different changes that need to be made in order for the data to fit the Linear Regression Model"
   ]
  },
  {
   "cell_type": "code",
   "execution_count": 17,
   "metadata": {},
   "outputs": [
    {
     "data": {
      "text/html": [
       "<div>\n",
       "<style scoped>\n",
       "    .dataframe tbody tr th:only-of-type {\n",
       "        vertical-align: middle;\n",
       "    }\n",
       "\n",
       "    .dataframe tbody tr th {\n",
       "        vertical-align: top;\n",
       "    }\n",
       "\n",
       "    .dataframe thead th {\n",
       "        text-align: right;\n",
       "    }\n",
       "</style>\n",
       "<table border=\"1\" class=\"dataframe\">\n",
       "  <thead>\n",
       "    <tr style=\"text-align: right;\">\n",
       "      <th></th>\n",
       "      <th>Gender</th>\n",
       "      <th>Married</th>\n",
       "      <th>Dependents</th>\n",
       "      <th>Education</th>\n",
       "      <th>Self_Employed</th>\n",
       "      <th>ApplicantIncome</th>\n",
       "      <th>CoapplicantIncome</th>\n",
       "      <th>LoanAmount</th>\n",
       "      <th>Loan_Amount_Term</th>\n",
       "      <th>Credit_History</th>\n",
       "      <th>Property_Area</th>\n",
       "      <th>Loan_Status</th>\n",
       "    </tr>\n",
       "    <tr>\n",
       "      <th>Loan_ID</th>\n",
       "      <th></th>\n",
       "      <th></th>\n",
       "      <th></th>\n",
       "      <th></th>\n",
       "      <th></th>\n",
       "      <th></th>\n",
       "      <th></th>\n",
       "      <th></th>\n",
       "      <th></th>\n",
       "      <th></th>\n",
       "      <th></th>\n",
       "      <th></th>\n",
       "    </tr>\n",
       "  </thead>\n",
       "  <tbody>\n",
       "    <tr>\n",
       "      <th>LP001002</th>\n",
       "      <td>Male</td>\n",
       "      <td>No</td>\n",
       "      <td>0</td>\n",
       "      <td>Graduate</td>\n",
       "      <td>No</td>\n",
       "      <td>5849</td>\n",
       "      <td>0.0</td>\n",
       "      <td>NaN</td>\n",
       "      <td>360.0</td>\n",
       "      <td>1.0</td>\n",
       "      <td>Urban</td>\n",
       "      <td>Y</td>\n",
       "    </tr>\n",
       "    <tr>\n",
       "      <th>LP001003</th>\n",
       "      <td>Male</td>\n",
       "      <td>Yes</td>\n",
       "      <td>1</td>\n",
       "      <td>Graduate</td>\n",
       "      <td>No</td>\n",
       "      <td>4583</td>\n",
       "      <td>1508.0</td>\n",
       "      <td>128.0</td>\n",
       "      <td>360.0</td>\n",
       "      <td>1.0</td>\n",
       "      <td>Rural</td>\n",
       "      <td>N</td>\n",
       "    </tr>\n",
       "    <tr>\n",
       "      <th>LP001005</th>\n",
       "      <td>Male</td>\n",
       "      <td>Yes</td>\n",
       "      <td>0</td>\n",
       "      <td>Graduate</td>\n",
       "      <td>Yes</td>\n",
       "      <td>3000</td>\n",
       "      <td>0.0</td>\n",
       "      <td>66.0</td>\n",
       "      <td>360.0</td>\n",
       "      <td>1.0</td>\n",
       "      <td>Urban</td>\n",
       "      <td>Y</td>\n",
       "    </tr>\n",
       "    <tr>\n",
       "      <th>LP001006</th>\n",
       "      <td>Male</td>\n",
       "      <td>Yes</td>\n",
       "      <td>0</td>\n",
       "      <td>Not Graduate</td>\n",
       "      <td>No</td>\n",
       "      <td>2583</td>\n",
       "      <td>2358.0</td>\n",
       "      <td>120.0</td>\n",
       "      <td>360.0</td>\n",
       "      <td>1.0</td>\n",
       "      <td>Urban</td>\n",
       "      <td>Y</td>\n",
       "    </tr>\n",
       "    <tr>\n",
       "      <th>LP001008</th>\n",
       "      <td>Male</td>\n",
       "      <td>No</td>\n",
       "      <td>0</td>\n",
       "      <td>Graduate</td>\n",
       "      <td>No</td>\n",
       "      <td>6000</td>\n",
       "      <td>0.0</td>\n",
       "      <td>141.0</td>\n",
       "      <td>360.0</td>\n",
       "      <td>1.0</td>\n",
       "      <td>Urban</td>\n",
       "      <td>Y</td>\n",
       "    </tr>\n",
       "  </tbody>\n",
       "</table>\n",
       "</div>"
      ],
      "text/plain": [
       "         Gender Married Dependents     Education Self_Employed  \\\n",
       "Loan_ID                                                          \n",
       "LP001002   Male      No          0      Graduate            No   \n",
       "LP001003   Male     Yes          1      Graduate            No   \n",
       "LP001005   Male     Yes          0      Graduate           Yes   \n",
       "LP001006   Male     Yes          0  Not Graduate            No   \n",
       "LP001008   Male      No          0      Graduate            No   \n",
       "\n",
       "          ApplicantIncome  CoapplicantIncome  LoanAmount  Loan_Amount_Term  \\\n",
       "Loan_ID                                                                      \n",
       "LP001002             5849                0.0         NaN             360.0   \n",
       "LP001003             4583             1508.0       128.0             360.0   \n",
       "LP001005             3000                0.0        66.0             360.0   \n",
       "LP001006             2583             2358.0       120.0             360.0   \n",
       "LP001008             6000                0.0       141.0             360.0   \n",
       "\n",
       "          Credit_History Property_Area Loan_Status  \n",
       "Loan_ID                                             \n",
       "LP001002             1.0         Urban           Y  \n",
       "LP001003             1.0         Rural           N  \n",
       "LP001005             1.0         Urban           Y  \n",
       "LP001006             1.0         Urban           Y  \n",
       "LP001008             1.0         Urban           Y  "
      ]
     },
     "execution_count": 17,
     "metadata": {},
     "output_type": "execute_result"
    }
   ],
   "source": [
    "data_LR = pd.read_csv('train_data.csv',index_col=\"Loan_ID\")\n",
    "data_LR.head()"
   ]
  },
  {
   "cell_type": "markdown",
   "metadata": {},
   "source": [
    "We use dummy encoding in the following cell to make all categorical variables numeric."
   ]
  },
  {
   "cell_type": "code",
   "execution_count": 18,
   "metadata": {},
   "outputs": [],
   "source": [
    "data_LR['Gender'].replace('Male',1,inplace=True)\n",
    "data_LR['Gender'].replace('Female',0,inplace=True)\n",
    "\n",
    "data_LR['Married'].replace('Yes',1,inplace=True)\n",
    "data_LR['Married'].replace('No',0,inplace=True)\n",
    "\n",
    "data_LR['Dependents'].replace('3+',3,inplace=True)\n",
    "#df['Dependents'].astype('int32')\n",
    "\n",
    "data_LR['Education'].replace('Graduate',1,inplace=True)\n",
    "data_LR['Education'].replace('Not Graduate',0,inplace=True)\n",
    "\n",
    "data_LR['Self_Employed'].replace('Yes',1,inplace=True)\n",
    "data_LR['Self_Employed'].replace('No',0,inplace=True)\n",
    "\n",
    "data_LR['Property_Area'].replace('Urban',2,inplace=True)\n",
    "data_LR['Property_Area'].replace('Semiurban',1,inplace=True)\n",
    "data_LR['Property_Area'].replace('Rural',0,inplace=True)\n",
    "\n",
    "data_LR['Loan_Status'].replace('Y',1,inplace=True)\n",
    "data_LR['Loan_Status'].replace('N',0,inplace=True)"
   ]
  },
  {
   "cell_type": "code",
   "execution_count": 19,
   "metadata": {},
   "outputs": [
    {
     "data": {
      "text/plain": [
       "Gender               13\n",
       "Married               3\n",
       "Dependents           15\n",
       "Education             0\n",
       "Self_Employed        32\n",
       "ApplicantIncome       0\n",
       "CoapplicantIncome     0\n",
       "LoanAmount           22\n",
       "Loan_Amount_Term     14\n",
       "Credit_History       50\n",
       "Property_Area         0\n",
       "Loan_Status           0\n",
       "dtype: int64"
      ]
     },
     "execution_count": 19,
     "metadata": {},
     "output_type": "execute_result"
    }
   ],
   "source": [
    "data_LR.isnull().sum()"
   ]
  },
  {
   "cell_type": "markdown",
   "metadata": {},
   "source": [
    "After analysing the amount of missing data, we use the same methods to fill the missing values of the numerical data and then drop remaining rows that contain NaN values that cannot be replaced with mean/median."
   ]
  },
  {
   "cell_type": "code",
   "execution_count": 20,
   "metadata": {},
   "outputs": [
    {
     "data": {
      "text/plain": [
       "(554, 12)"
      ]
     },
     "execution_count": 20,
     "metadata": {},
     "output_type": "execute_result"
    }
   ],
   "source": [
    "mean_LoanAmount = data_LR[\"LoanAmount\"].mean()\n",
    "data_LR[\"LoanAmount\"] = data_LR[\"LoanAmount\"].fillna(mean_LoanAmount)\n",
    "\n",
    "mean_LoanAmount_Term = data_LR[\"Loan_Amount_Term\"].mean()\n",
    "data_LR[\"Loan_Amount_Term\"] = data_LR[\"Loan_Amount_Term\"].fillna(mean_LoanAmount_Term)\n",
    "\n",
    "median_Credit_History = data_LR[\"Credit_History\"].median()\n",
    "data_LR[\"Credit_History\"] = data_LR[\"Credit_History\"].fillna(median_Credit_History)\n",
    "\n",
    "data_LR['Dependents'] = pd.to_numeric(data_LR['Dependents'])\n",
    "data_LR.dropna(inplace=True)\n",
    "data_LR.shape"
   ]
  },
  {
   "cell_type": "markdown",
   "metadata": {},
   "source": [
    "We then shuffle the array and create training, testing and validation datasets with a 60%/20%/20% split, respectively."
   ]
  },
  {
   "cell_type": "code",
   "execution_count": 21,
   "metadata": {},
   "outputs": [],
   "source": [
    "#Shuffle Array\n",
    "def shuffleSplit(data_NN):\n",
    "    df_shuffle = data_NN.copy()\n",
    "    df_shuffle = df_shuffle.sample(frac=1).reset_index(drop=True)\n",
    "    \n",
    "    #Split into training/testing/validating (60%/20%/20%)\n",
    "    df_train = df_shuffle.loc[:.6*len(data_NN)]\n",
    "    df_test = df_shuffle.loc[.6*len(data_NN)+1:.8*len(data_NN)].reset_index(drop=True)\n",
    "    df_validate = df_shuffle.loc[.8*len(data_NN)+1:].reset_index(drop=True)\n",
    "\n",
    "    #Remove classification bias in training data\n",
    "    df_0 = df_train.loc[df_train['Loan_Status']==0]\n",
    "    df_1 = df_train.loc[df_train['Loan_Status']==1]\n",
    "\n",
    "    x_train = df_train.drop([\"Loan_Status\"], axis = 1)\n",
    "    y_train = df_train[\"Loan_Status\"]\n",
    "\n",
    "    x_test = df_test.drop([\"Loan_Status\"], axis = 1)\n",
    "    y_test = df_test[\"Loan_Status\"].reset_index(drop=True)\n",
    "\n",
    "    x_validate = df_validate.drop([\"Loan_Status\"], axis = 1)\n",
    "    y_validate = df_validate[\"Loan_Status\"].reset_index(drop=True)\n",
    "    \n",
    "    return x_train, x_test, y_train, y_test, x_validate, y_validate\n",
    "\n",
    "\n",
    "x_train, x_test, y_train, y_test, x_validate, y_validate = shuffleSplit(data_LR)\n"
   ]
  },
  {
   "cell_type": "markdown",
   "metadata": {},
   "source": [
    "We fit the Logistic Regression Model on the training dataset and make predictions on the test dataset. The results of the prediction are compared to the actual labels of the test data set and are shown in a confusion matrix along with a final testing accuracy."
   ]
  },
  {
   "cell_type": "code",
   "execution_count": 22,
   "metadata": {},
   "outputs": [
    {
     "name": "stdout",
     "output_type": "stream",
     "text": [
      "\n",
      "\n",
      "-------- Results From Predicting --------\n"
     ]
    },
    {
     "data": {
      "image/png": "[encoded data removed]",
      "text/plain": [
       "<Figure size 432x288 with 2 Axes>"
      ]
     },
     "metadata": {
      "needs_background": "light"
     },
     "output_type": "display_data"
    },
    {
     "name": "stdout",
     "output_type": "stream",
     "text": [
      "\n",
      "\n",
      "\n",
      "\n",
      "Accuracy:  83.4862385321101 %\n",
      "\n",
      "\n",
      "              precision    recall  f1-score   support\n",
      "\n",
      "           0       0.81      0.46      0.59        28\n",
      "           1       0.84      0.96      0.90        81\n",
      "\n",
      "    accuracy                           0.83       109\n",
      "   macro avg       0.83      0.71      0.74       109\n",
      "weighted avg       0.83      0.83      0.82       109\n",
      "\n"
     ]
    }
   ],
   "source": [
    "LR = LogisticRegression(penalty='none', max_iter = 500)\n",
    "LR.fit(x_train, y_train)\n",
    "predictions = LR.predict(x_validate)\n",
    "pred_series = pd.Series(predictions)\n",
    "print(\"\\n\")\n",
    "#Plot results on confusion matrix\n",
    "print(\"-------- Results From Predicting --------\")\n",
    "#confusion_matrix = pd.crosstab(y_validate, pred_series, rownames=['Actual'], colnames = ['Predicted'])\n",
    "cf_matrix = confusion_matrix(y_validate, predictions)\n",
    "\n",
    "sns.heatmap(cf_matrix, annot=True,cmap=\"YlGnBu\")\n",
    "plt.show()\n",
    "print(\"\\n\")\n",
    "#display(confusion_matrix)\n",
    "print(\"\\n\")\n",
    "accuracy = LR.score(x_validate, y_validate)\n",
    "print(\"Accuracy: \",accuracy*100,'%')\n",
    "print(\"\\n\")\n",
    "print(classification_report(y_validate, predictions))"
   ]
  },
  {
   "cell_type": "markdown",
   "metadata": {},
   "source": [
    "#### Improved Learning"
   ]
  },
  {
   "cell_type": "markdown",
   "metadata": {},
   "source": [
    "##### Normalising the dataframe\n",
    "We normalise the columns of the dataframe in order to reduce bias in our model. This is because some variables are represented as 1's and 0's in the form of dummy encoding for categorical data and some numerical variables are represented as dollar values for incomes and loan amounts. "
   ]
  },
  {
   "cell_type": "code",
   "execution_count": 23,
   "metadata": {},
   "outputs": [
    {
     "data": {
      "text/html": [
       "<div>\n",
       "<style scoped>\n",
       "    .dataframe tbody tr th:only-of-type {\n",
       "        vertical-align: middle;\n",
       "    }\n",
       "\n",
       "    .dataframe tbody tr th {\n",
       "        vertical-align: top;\n",
       "    }\n",
       "\n",
       "    .dataframe thead th {\n",
       "        text-align: right;\n",
       "    }\n",
       "</style>\n",
       "<table border=\"1\" class=\"dataframe\">\n",
       "  <thead>\n",
       "    <tr style=\"text-align: right;\">\n",
       "      <th></th>\n",
       "      <th>Gender</th>\n",
       "      <th>Married</th>\n",
       "      <th>Dependents</th>\n",
       "      <th>Education</th>\n",
       "      <th>Self_Employed</th>\n",
       "      <th>ApplicantIncome</th>\n",
       "      <th>CoapplicantIncome</th>\n",
       "      <th>LoanAmount</th>\n",
       "      <th>Loan_Amount_Term</th>\n",
       "      <th>Credit_History</th>\n",
       "      <th>Property_Area</th>\n",
       "      <th>Loan_Status</th>\n",
       "    </tr>\n",
       "  </thead>\n",
       "  <tbody>\n",
       "    <tr>\n",
       "      <th>count</th>\n",
       "      <td>5.540000e+02</td>\n",
       "      <td>5.540000e+02</td>\n",
       "      <td>5.540000e+02</td>\n",
       "      <td>5.540000e+02</td>\n",
       "      <td>5.540000e+02</td>\n",
       "      <td>5.540000e+02</td>\n",
       "      <td>5.540000e+02</td>\n",
       "      <td>5.540000e+02</td>\n",
       "      <td>5.540000e+02</td>\n",
       "      <td>5.540000e+02</td>\n",
       "      <td>5.540000e+02</td>\n",
       "      <td>554.000000</td>\n",
       "    </tr>\n",
       "    <tr>\n",
       "      <th>mean</th>\n",
       "      <td>-5.691396e-17</td>\n",
       "      <td>-1.723451e-17</td>\n",
       "      <td>3.102212e-16</td>\n",
       "      <td>2.148302e-16</td>\n",
       "      <td>3.206420e-17</td>\n",
       "      <td>-1.928862e-17</td>\n",
       "      <td>5.130272e-17</td>\n",
       "      <td>5.545604e-16</td>\n",
       "      <td>-1.376757e-16</td>\n",
       "      <td>3.086180e-16</td>\n",
       "      <td>6.509409e-16</td>\n",
       "      <td>0.689531</td>\n",
       "    </tr>\n",
       "    <tr>\n",
       "      <th>std</th>\n",
       "      <td>1.000000e+00</td>\n",
       "      <td>1.000000e+00</td>\n",
       "      <td>1.000000e+00</td>\n",
       "      <td>1.000000e+00</td>\n",
       "      <td>1.000000e+00</td>\n",
       "      <td>1.000000e+00</td>\n",
       "      <td>1.000000e+00</td>\n",
       "      <td>1.000000e+00</td>\n",
       "      <td>1.000000e+00</td>\n",
       "      <td>1.000000e+00</td>\n",
       "      <td>1.000000e+00</td>\n",
       "      <td>0.463104</td>\n",
       "    </tr>\n",
       "    <tr>\n",
       "      <th>min</th>\n",
       "      <td>-2.115905e+00</td>\n",
       "      <td>-1.371865e+00</td>\n",
       "      <td>-7.517676e-01</td>\n",
       "      <td>-1.870225e+00</td>\n",
       "      <td>-3.983828e-01</td>\n",
       "      <td>-9.380213e-01</td>\n",
       "      <td>-6.280789e-01</td>\n",
       "      <td>-1.677006e+00</td>\n",
       "      <td>-5.097615e+00</td>\n",
       "      <td>-2.431934e+00</td>\n",
       "      <td>-1.309702e+00</td>\n",
       "      <td>0.000000</td>\n",
       "    </tr>\n",
       "    <tr>\n",
       "      <th>25%</th>\n",
       "      <td>4.717580e-01</td>\n",
       "      <td>-1.371865e+00</td>\n",
       "      <td>-7.517676e-01</td>\n",
       "      <td>5.337300e-01</td>\n",
       "      <td>-3.983828e-01</td>\n",
       "      <td>-4.442231e-01</td>\n",
       "      <td>-6.280789e-01</td>\n",
       "      <td>-5.546360e-01</td>\n",
       "      <td>2.787575e-01</td>\n",
       "      <td>4.104531e-01</td>\n",
       "      <td>-1.309702e+00</td>\n",
       "      <td>0.000000</td>\n",
       "    </tr>\n",
       "    <tr>\n",
       "      <th>50%</th>\n",
       "      <td>4.717580e-01</td>\n",
       "      <td>7.276190e-01</td>\n",
       "      <td>-7.517676e-01</td>\n",
       "      <td>5.337300e-01</td>\n",
       "      <td>-3.983828e-01</td>\n",
       "      <td>-2.616896e-01</td>\n",
       "      <td>-1.729365e-01</td>\n",
       "      <td>-2.092913e-01</td>\n",
       "      <td>2.787575e-01</td>\n",
       "      <td>4.104531e-01</td>\n",
       "      <td>-3.899287e-02</td>\n",
       "      <td>1.000000</td>\n",
       "    </tr>\n",
       "    <tr>\n",
       "      <th>75%</th>\n",
       "      <td>4.717580e-01</td>\n",
       "      <td>7.276190e-01</td>\n",
       "      <td>1.226756e+00</td>\n",
       "      <td>5.337300e-01</td>\n",
       "      <td>-3.983828e-01</td>\n",
       "      <td>1.011318e-01</td>\n",
       "      <td>2.819087e-01</td>\n",
       "      <td>2.686411e-01</td>\n",
       "      <td>2.787575e-01</td>\n",
       "      <td>4.104531e-01</td>\n",
       "      <td>1.231716e+00</td>\n",
       "      <td>1.000000</td>\n",
       "    </tr>\n",
       "    <tr>\n",
       "      <th>max</th>\n",
       "      <td>4.717580e-01</td>\n",
       "      <td>7.276190e-01</td>\n",
       "      <td>2.216018e+00</td>\n",
       "      <td>5.337300e-01</td>\n",
       "      <td>2.505618e+00</td>\n",
       "      <td>1.388280e+01</td>\n",
       "      <td>1.277545e+01</td>\n",
       "      <td>6.228920e+00</td>\n",
       "      <td>2.132679e+00</td>\n",
       "      <td>4.104531e-01</td>\n",
       "      <td>1.231716e+00</td>\n",
       "      <td>1.000000</td>\n",
       "    </tr>\n",
       "  </tbody>\n",
       "</table>\n",
       "</div>"
      ],
      "text/plain": [
       "             Gender       Married    Dependents     Education  Self_Employed  \\\n",
       "count  5.540000e+02  5.540000e+02  5.540000e+02  5.540000e+02   5.540000e+02   \n",
       "mean  -5.691396e-17 -1.723451e-17  3.102212e-16  2.148302e-16   3.206420e-17   \n",
       "std    1.000000e+00  1.000000e+00  1.000000e+00  1.000000e+00   1.000000e+00   \n",
       "min   -2.115905e+00 -1.371865e+00 -7.517676e-01 -1.870225e+00  -3.983828e-01   \n",
       "25%    4.717580e-01 -1.371865e+00 -7.517676e-01  5.337300e-01  -3.983828e-01   \n",
       "50%    4.717580e-01  7.276190e-01 -7.517676e-01  5.337300e-01  -3.983828e-01   \n",
       "75%    4.717580e-01  7.276190e-01  1.226756e+00  5.337300e-01  -3.983828e-01   \n",
       "max    4.717580e-01  7.276190e-01  2.216018e+00  5.337300e-01   2.505618e+00   \n",
       "\n",
       "       ApplicantIncome  CoapplicantIncome    LoanAmount  Loan_Amount_Term  \\\n",
       "count     5.540000e+02       5.540000e+02  5.540000e+02      5.540000e+02   \n",
       "mean     -1.928862e-17       5.130272e-17  5.545604e-16     -1.376757e-16   \n",
       "std       1.000000e+00       1.000000e+00  1.000000e+00      1.000000e+00   \n",
       "min      -9.380213e-01      -6.280789e-01 -1.677006e+00     -5.097615e+00   \n",
       "25%      -4.442231e-01      -6.280789e-01 -5.546360e-01      2.787575e-01   \n",
       "50%      -2.616896e-01      -1.729365e-01 -2.092913e-01      2.787575e-01   \n",
       "75%       1.011318e-01       2.819087e-01  2.686411e-01      2.787575e-01   \n",
       "max       1.388280e+01       1.277545e+01  6.228920e+00      2.132679e+00   \n",
       "\n",
       "       Credit_History  Property_Area  Loan_Status  \n",
       "count    5.540000e+02   5.540000e+02   554.000000  \n",
       "mean     3.086180e-16   6.509409e-16     0.689531  \n",
       "std      1.000000e+00   1.000000e+00     0.463104  \n",
       "min     -2.431934e+00  -1.309702e+00     0.000000  \n",
       "25%      4.104531e-01  -1.309702e+00     0.000000  \n",
       "50%      4.104531e-01  -3.899287e-02     1.000000  \n",
       "75%      4.104531e-01   1.231716e+00     1.000000  \n",
       "max      4.104531e-01   1.231716e+00     1.000000  "
      ]
     },
     "execution_count": 23,
     "metadata": {},
     "output_type": "execute_result"
    }
   ],
   "source": [
    "data_LR_Norm = data_LR.copy()\n",
    "index = data_LR_Norm.columns.drop(['Loan_Status'])\n",
    "#print(index)\n",
    "for i in range(data_LR_Norm.shape[1]-1):\n",
    "    data_LR_Norm[index[i]] = (data_LR_Norm[index[i]]-data_LR_Norm[index[i]].mean())/data_LR_Norm[index[i]].std()\n",
    "    \n",
    "data_LR_Norm.describe()"
   ]
  },
  {
   "cell_type": "markdown",
   "metadata": {},
   "source": [
    "We reshuffle and divide the normalised data into train, validation and testing datasets."
   ]
  },
  {
   "cell_type": "code",
   "execution_count": 24,
   "metadata": {},
   "outputs": [],
   "source": [
    "x_train, x_test, y_train, y_test, x_validate, y_validate = shuffleSplit(data_LR_Norm)"
   ]
  },
  {
   "cell_type": "markdown",
   "metadata": {},
   "source": [
    "We refit the Logistic Regression model with L2 regularization to the normalised training set and make predictions on the normalised testing set. The results are shown in a confusion matrix."
   ]
  },
  {
   "cell_type": "code",
   "execution_count": 25,
   "metadata": {},
   "outputs": [
    {
     "name": "stdout",
     "output_type": "stream",
     "text": [
      "\n",
      "\n",
      "-------- Results From Predicting --------\n"
     ]
    },
    {
     "data": {
      "image/png": "[encoded data removed]",
      "text/plain": [
       "<Figure size 432x288 with 2 Axes>"
      ]
     },
     "metadata": {
      "needs_background": "light"
     },
     "output_type": "display_data"
    },
    {
     "name": "stdout",
     "output_type": "stream",
     "text": [
      "\n",
      "\n",
      "79.81651376146789 %\n",
      "\n",
      "\n",
      "              precision    recall  f1-score   support\n",
      "\n",
      "           0       0.92      0.36      0.52        33\n",
      "           1       0.78      0.99      0.87        76\n",
      "\n",
      "    accuracy                           0.80       109\n",
      "   macro avg       0.85      0.68      0.70       109\n",
      "weighted avg       0.82      0.80      0.77       109\n",
      "\n"
     ]
    }
   ],
   "source": [
    "LR = LogisticRegression(penalty='l2', max_iter = 500)\n",
    "LR.fit(x_train, y_train)\n",
    "predictions = LR.predict(x_validate)\n",
    "pred_series = pd.Series(predictions)\n",
    "print(\"\\n\")\n",
    "#Plot results on confusion matrix\n",
    "print(\"-------- Results From Predicting --------\")\n",
    "cf_matrix = confusion_matrix(y_validate, predictions)\n",
    "sns.heatmap(cf_matrix, annot=True,cmap=\"YlGnBu\")\n",
    "plt.show()\n",
    "print(\"\\n\")\n",
    "accuracy = LR.score(x_validate, y_validate)\n",
    "print(accuracy*100,'%')\n",
    "print(\"\\n\")\n",
    "print(classification_report(y_validate, predictions))"
   ]
  },
  {
   "cell_type": "markdown",
   "metadata": {},
   "source": [
    "Now that we have our best model, we predict on the testing dataset to achieve a final accuracy of the model."
   ]
  },
  {
   "cell_type": "code",
   "execution_count": 26,
   "metadata": {},
   "outputs": [
    {
     "name": "stdout",
     "output_type": "stream",
     "text": [
      "\n",
      "\n",
      "-------- Results From Predicting --------\n"
     ]
    },
    {
     "data": {
      "image/png": "[encoded data removed]",
      "text/plain": [
       "<Figure size 432x288 with 2 Axes>"
      ]
     },
     "metadata": {
      "needs_background": "light"
     },
     "output_type": "display_data"
    },
    {
     "name": "stdout",
     "output_type": "stream",
     "text": [
      "\n",
      "\n",
      "80.9090909090909 %\n",
      "\n",
      "\n",
      "              precision    recall  f1-score   support\n",
      "\n",
      "           0       0.88      0.42      0.57        33\n",
      "           1       0.80      0.97      0.88        77\n",
      "\n",
      "    accuracy                           0.81       110\n",
      "   macro avg       0.84      0.70      0.72       110\n",
      "weighted avg       0.82      0.81      0.79       110\n",
      "\n"
     ]
    }
   ],
   "source": [
    "predictions = LR.predict(x_test)\n",
    "pred_series = pd.Series(predictions)\n",
    "print(\"\\n\")\n",
    "#Plot results on confusion matrix\n",
    "print(\"-------- Results From Predicting --------\")\n",
    "cf_matrix = confusion_matrix(y_test, predictions)\n",
    "sns.heatmap(cf_matrix, annot=True,cmap=\"YlGnBu\")\n",
    "plt.show()\n",
    "print(\"\\n\")\n",
    "accuracy = LR.score(x_test, y_test)\n",
    "print(accuracy*100,'%')\n",
    "print(\"\\n\")\n",
    "print(classification_report(y_test, predictions))"
   ]
  },
  {
   "cell_type": "markdown",
   "metadata": {},
   "source": [
    "### Neural Networks Classifier"
   ]
  },
  {
   "cell_type": "markdown",
   "metadata": {},
   "source": [
    "We use the same version of the dataset that we did in Logistic Regression as all categrical variables are represented as dummy variables. This is required as a Neural Network can only work with numerical data."
   ]
  },
  {
   "cell_type": "code",
   "execution_count": 27,
   "metadata": {},
   "outputs": [],
   "source": [
    "data_NN = data_LR.copy()"
   ]
  },
  {
   "cell_type": "markdown",
   "metadata": {},
   "source": [
    "We divide the data into training, validation and testing datasets using a 60%/20%/20% split, respectively."
   ]
  },
  {
   "cell_type": "code",
   "execution_count": 28,
   "metadata": {},
   "outputs": [],
   "source": [
    "x_train, x_test, y_train, y_test, x_validate, y_validate = shuffleSplit(data_NN)"
   ]
  },
  {
   "cell_type": "markdown",
   "metadata": {},
   "source": [
    "Below are the activation fauncions used as well as their derivatives. The type of activation function used will be explored in model fitting and their effectiveness will be determined on the validation dataset.\n",
    "\n",
    "There is also the feedforward function which trains the neural network with backpropagation as well as a predict function that uses the trained weights to predict an output on the validation or testing dataset."
   ]
  },
  {
   "cell_type": "code",
   "execution_count": 29,
   "metadata": {},
   "outputs": [],
   "source": [
    "# Activation functions\n",
    "\n",
    "def ReLU(x):\n",
    "    return np.maximum(0, x)\n",
    "\n",
    "def sigmoid(x):\n",
    "    return 1/(1 + np.exp(-x))\n",
    "\n",
    "def linear(x):\n",
    "    return x\n",
    "\n",
    "def tanh(x):\n",
    "    return 2/(1 + np.exp(-2*x)) - 1\n",
    "\n",
    "def dif_ReLU(x):\n",
    "    if(x >= 0):\n",
    "        return 1\n",
    "    else:\n",
    "        return 0\n",
    "    \n",
    "def dif_sigmoid(x):\n",
    "    return sigmoid(x)*(1 - sigmoid(x))\n",
    "\n",
    "def dif_linear(x):\n",
    "    return 1\n",
    "\n",
    "def dif_tanh(x):\n",
    "    return 1/(np.square(x) + 1)\n",
    "\n",
    "def feed_forward(x, hidden, y, alpha, epoch, lmda, act, dif_act):\n",
    "    error_total = []\n",
    "    \n",
    "    np.random.seed(10)\n",
    "    \n",
    "    w1 = np.random.randn(hidden, len(x.columns))/np.sqrt(len(x.columns))\n",
    "    bias1 = np.random.randn(hidden,1)\n",
    "    \n",
    "    w2 = np.random.randn(1, hidden)/np.sqrt(hidden)\n",
    "    bias2 = np.random.randn(1,1)\n",
    "    mse_old = 100000\n",
    "    diff = 100000\n",
    "    ind = 0\n",
    "    while(diff > 0.00001 and ind < epoch):\n",
    "        z_arr = []\n",
    "\n",
    "        for i in range(len(x)):\n",
    "\n",
    "            a1 = x.iloc[i].values.reshape((len(x.columns),1))\n",
    "\n",
    "            z2 = np.dot(w1, a1) + bias1\n",
    "            a2 = act(z2)\n",
    "\n",
    "            z3 = np.dot(w2, a2) + bias2\n",
    "            a3 = sigmoid(z3)\n",
    "\n",
    "\n",
    "            z_arr.append(float(a3))\n",
    "\n",
    "            yhat = a3\n",
    "\n",
    "            ### BACKPROPAGATION ###\n",
    "\n",
    "            d3 = yhat - y.iloc[i]\n",
    "            d2 = np.dot(w2.T, d3)*dif_sigmoid(z3)\n",
    "\n",
    "            J1 = np.dot(d2,a1.reshape((1,len(x.columns)))) + lmda*np.sum(np.square(w1))  #L1 = np.sum(np.abs(w1)), L2 = np.sum(np.square(w1))\n",
    "            J2 = np.dot(d3,a2.reshape((1,hidden))) + lmda*np.sum(np.square(w2))\n",
    "            \n",
    "            w1 -= alpha*J1 \n",
    "            w2 -= alpha*J2 \n",
    "            \n",
    "        yhat_total = np.array(z_arr)\n",
    "        \n",
    "        mse = 1/len(x)*np.sum(np.square(yhat_total - y))\n",
    "        acc = (1-mse)\n",
    "        diff = mse_old - mse\n",
    "        mse_old = mse\n",
    "        #print(diff)\n",
    "        ind +=1\n",
    "        #print(ind)\n",
    "        error_total.append(mse)\n",
    "        \n",
    "        \n",
    "        \n",
    "    return error_total, w1, w2\n",
    "    \n",
    "def predict(x, hidden, w1, w2, act, boundary):\n",
    "    np.random.seed(10)\n",
    "    bias1 = np.random.randn(hidden,1)\n",
    "    bias2 = np.random.randn(1,1)\n",
    "    predictions = []\n",
    "    for i in range(len(x)): #len(x)\n",
    "\n",
    "            a1 = x.iloc[i].values.reshape((len(x.columns),1))\n",
    "            z2 = np.dot(w1, a1) + bias1\n",
    "            a2 = act(z2)\n",
    "\n",
    "            z3 = np.dot(w2, a2) + bias2\n",
    "            a3 = sigmoid(z3)\n",
    "\n",
    "            yhat = a3\n",
    "            #print(yhat)\n",
    "            if(yhat < boundary):\n",
    "                predictions.append(0)\n",
    "            else:\n",
    "                predictions.append(1)\n",
    "                \n",
    "    return predictions     \n",
    "    "
   ]
  },
  {
   "cell_type": "markdown",
   "metadata": {},
   "source": [
    "We set the hyperparameters and train the neural network. We make predictions on the validating set and adjust the hyperparameters to obtain the best results. \n",
    "\n",
    "The prediction error during training is displayed over time in a line graph to show that the error converges during training.\n",
    "\n",
    "The results from the prediction are displayed in a confusion matrix."
   ]
  },
  {
   "cell_type": "code",
   "execution_count": 34,
   "metadata": {},
   "outputs": [
    {
     "name": "stdout",
     "output_type": "stream",
     "text": [
      "-------- Results From Training --------\n"
     ]
    },
    {
     "data": {
      "image/png": "[encoded data removed]",
      "text/plain": [
       "<Figure size 432x288 with 1 Axes>"
      ]
     },
     "metadata": {
      "needs_background": "light"
     },
     "output_type": "display_data"
    },
    {
     "name": "stdout",
     "output_type": "stream",
     "text": [
      "Final Training Error:  14.357241419755043 %\n",
      "\n",
      "\n",
      "-------- Results From Predicting --------\n"
     ]
    },
    {
     "data": {
      "image/png": "[encoded data removed]",
      "text/plain": [
       "<Figure size 432x288 with 2 Axes>"
      ]
     },
     "metadata": {
      "needs_background": "light"
     },
     "output_type": "display_data"
    },
    {
     "name": "stdout",
     "output_type": "stream",
     "text": [
      "\n",
      "\n",
      "              precision    recall  f1-score   support\n",
      "\n",
      "           0       0.77      0.32      0.45        31\n",
      "           1       0.78      0.96      0.86        78\n",
      "\n",
      "    accuracy                           0.78       109\n",
      "   macro avg       0.78      0.64      0.66       109\n",
      "weighted avg       0.78      0.78      0.75       109\n",
      "\n"
     ]
    }
   ],
   "source": [
    "#hyperparameters:\n",
    "hidden = 9 # 9 = best\n",
    "alpha = 0.001 # 0.0001 = best for Normalised data\n",
    "lamda = 0.0 # = 0.001 = best for L2 regularization\n",
    "\n",
    "#activation function:\n",
    "activation = tanh\n",
    "dif_activation = dif_tanh\n",
    "boundary = 0.5\n",
    "\n",
    "#Train neural network:\n",
    "error, theta1, theta2 = feed_forward(x_train, hidden, y_train, alpha, 2000, lamda, activation, dif_activation)\n",
    "\n",
    "#Plot error\n",
    "print(\"-------- Results From Training --------\")\n",
    "plt.plot(np.arange(0,len(error)),error)\n",
    "plt.title(\"Error over Time\")\n",
    "plt.xlabel(\"Epochs\")\n",
    "plt.ylabel(\"Error\")\n",
    "plt.show()  \n",
    "print(\"Final Training Error: \", error[-1]*100,\"%\")\n",
    "\n",
    "#Predict on the validation set\n",
    "predictions = predict(x_validate, hidden, theta1, theta2, activation, boundary)\n",
    "pred_series = pd.Series(predictions)\n",
    "print(\"\\n\")\n",
    "#Plot results on confusion matrix\n",
    "print(\"-------- Results From Predicting --------\")\n",
    "cf_matrix = confusion_matrix(y_validate, predictions)\n",
    "\n",
    "sns.heatmap(cf_matrix, annot=True,cmap=\"YlGnBu\")\n",
    "plt.show()\n",
    "print(\"\\n\")\n",
    "print(classification_report(y_validate, predictions))"
   ]
  },
  {
   "cell_type": "markdown",
   "metadata": {},
   "source": [
    "#### Improved Learning\n",
    "##### Normalising the dataset\n",
    "\n",
    "Before making predictions on the test dataset, we try to improve the learning of the model so that we can obtain a higher testing accuracy. We normalise the data so that there is no bias in our variables."
   ]
  },
  {
   "cell_type": "code",
   "execution_count": 35,
   "metadata": {},
   "outputs": [
    {
     "data": {
      "text/html": [
       "<div>\n",
       "<style scoped>\n",
       "    .dataframe tbody tr th:only-of-type {\n",
       "        vertical-align: middle;\n",
       "    }\n",
       "\n",
       "    .dataframe tbody tr th {\n",
       "        vertical-align: top;\n",
       "    }\n",
       "\n",
       "    .dataframe thead th {\n",
       "        text-align: right;\n",
       "    }\n",
       "</style>\n",
       "<table border=\"1\" class=\"dataframe\">\n",
       "  <thead>\n",
       "    <tr style=\"text-align: right;\">\n",
       "      <th></th>\n",
       "      <th>Gender</th>\n",
       "      <th>Married</th>\n",
       "      <th>Dependents</th>\n",
       "      <th>Education</th>\n",
       "      <th>Self_Employed</th>\n",
       "      <th>ApplicantIncome</th>\n",
       "      <th>CoapplicantIncome</th>\n",
       "      <th>LoanAmount</th>\n",
       "      <th>Loan_Amount_Term</th>\n",
       "      <th>Credit_History</th>\n",
       "      <th>Property_Area</th>\n",
       "      <th>Loan_Status</th>\n",
       "    </tr>\n",
       "  </thead>\n",
       "  <tbody>\n",
       "    <tr>\n",
       "      <th>count</th>\n",
       "      <td>5.540000e+02</td>\n",
       "      <td>5.540000e+02</td>\n",
       "      <td>5.540000e+02</td>\n",
       "      <td>5.540000e+02</td>\n",
       "      <td>5.540000e+02</td>\n",
       "      <td>5.540000e+02</td>\n",
       "      <td>5.540000e+02</td>\n",
       "      <td>5.540000e+02</td>\n",
       "      <td>5.540000e+02</td>\n",
       "      <td>5.540000e+02</td>\n",
       "      <td>5.540000e+02</td>\n",
       "      <td>554.000000</td>\n",
       "    </tr>\n",
       "    <tr>\n",
       "      <th>mean</th>\n",
       "      <td>-5.691396e-17</td>\n",
       "      <td>-1.723451e-17</td>\n",
       "      <td>3.102212e-16</td>\n",
       "      <td>2.148302e-16</td>\n",
       "      <td>3.206420e-17</td>\n",
       "      <td>-1.928862e-17</td>\n",
       "      <td>5.130272e-17</td>\n",
       "      <td>5.545604e-16</td>\n",
       "      <td>-1.376757e-16</td>\n",
       "      <td>3.086180e-16</td>\n",
       "      <td>6.509409e-16</td>\n",
       "      <td>0.689531</td>\n",
       "    </tr>\n",
       "    <tr>\n",
       "      <th>std</th>\n",
       "      <td>1.000000e+00</td>\n",
       "      <td>1.000000e+00</td>\n",
       "      <td>1.000000e+00</td>\n",
       "      <td>1.000000e+00</td>\n",
       "      <td>1.000000e+00</td>\n",
       "      <td>1.000000e+00</td>\n",
       "      <td>1.000000e+00</td>\n",
       "      <td>1.000000e+00</td>\n",
       "      <td>1.000000e+00</td>\n",
       "      <td>1.000000e+00</td>\n",
       "      <td>1.000000e+00</td>\n",
       "      <td>0.463104</td>\n",
       "    </tr>\n",
       "    <tr>\n",
       "      <th>min</th>\n",
       "      <td>-2.115905e+00</td>\n",
       "      <td>-1.371865e+00</td>\n",
       "      <td>-7.517676e-01</td>\n",
       "      <td>-1.870225e+00</td>\n",
       "      <td>-3.983828e-01</td>\n",
       "      <td>-9.380213e-01</td>\n",
       "      <td>-6.280789e-01</td>\n",
       "      <td>-1.677006e+00</td>\n",
       "      <td>-5.097615e+00</td>\n",
       "      <td>-2.431934e+00</td>\n",
       "      <td>-1.309702e+00</td>\n",
       "      <td>0.000000</td>\n",
       "    </tr>\n",
       "    <tr>\n",
       "      <th>25%</th>\n",
       "      <td>4.717580e-01</td>\n",
       "      <td>-1.371865e+00</td>\n",
       "      <td>-7.517676e-01</td>\n",
       "      <td>5.337300e-01</td>\n",
       "      <td>-3.983828e-01</td>\n",
       "      <td>-4.442231e-01</td>\n",
       "      <td>-6.280789e-01</td>\n",
       "      <td>-5.546360e-01</td>\n",
       "      <td>2.787575e-01</td>\n",
       "      <td>4.104531e-01</td>\n",
       "      <td>-1.309702e+00</td>\n",
       "      <td>0.000000</td>\n",
       "    </tr>\n",
       "    <tr>\n",
       "      <th>50%</th>\n",
       "      <td>4.717580e-01</td>\n",
       "      <td>7.276190e-01</td>\n",
       "      <td>-7.517676e-01</td>\n",
       "      <td>5.337300e-01</td>\n",
       "      <td>-3.983828e-01</td>\n",
       "      <td>-2.616896e-01</td>\n",
       "      <td>-1.729365e-01</td>\n",
       "      <td>-2.092913e-01</td>\n",
       "      <td>2.787575e-01</td>\n",
       "      <td>4.104531e-01</td>\n",
       "      <td>-3.899287e-02</td>\n",
       "      <td>1.000000</td>\n",
       "    </tr>\n",
       "    <tr>\n",
       "      <th>75%</th>\n",
       "      <td>4.717580e-01</td>\n",
       "      <td>7.276190e-01</td>\n",
       "      <td>1.226756e+00</td>\n",
       "      <td>5.337300e-01</td>\n",
       "      <td>-3.983828e-01</td>\n",
       "      <td>1.011318e-01</td>\n",
       "      <td>2.819087e-01</td>\n",
       "      <td>2.686411e-01</td>\n",
       "      <td>2.787575e-01</td>\n",
       "      <td>4.104531e-01</td>\n",
       "      <td>1.231716e+00</td>\n",
       "      <td>1.000000</td>\n",
       "    </tr>\n",
       "    <tr>\n",
       "      <th>max</th>\n",
       "      <td>4.717580e-01</td>\n",
       "      <td>7.276190e-01</td>\n",
       "      <td>2.216018e+00</td>\n",
       "      <td>5.337300e-01</td>\n",
       "      <td>2.505618e+00</td>\n",
       "      <td>1.388280e+01</td>\n",
       "      <td>1.277545e+01</td>\n",
       "      <td>6.228920e+00</td>\n",
       "      <td>2.132679e+00</td>\n",
       "      <td>4.104531e-01</td>\n",
       "      <td>1.231716e+00</td>\n",
       "      <td>1.000000</td>\n",
       "    </tr>\n",
       "  </tbody>\n",
       "</table>\n",
       "</div>"
      ],
      "text/plain": [
       "             Gender       Married    Dependents     Education  Self_Employed  \\\n",
       "count  5.540000e+02  5.540000e+02  5.540000e+02  5.540000e+02   5.540000e+02   \n",
       "mean  -5.691396e-17 -1.723451e-17  3.102212e-16  2.148302e-16   3.206420e-17   \n",
       "std    1.000000e+00  1.000000e+00  1.000000e+00  1.000000e+00   1.000000e+00   \n",
       "min   -2.115905e+00 -1.371865e+00 -7.517676e-01 -1.870225e+00  -3.983828e-01   \n",
       "25%    4.717580e-01 -1.371865e+00 -7.517676e-01  5.337300e-01  -3.983828e-01   \n",
       "50%    4.717580e-01  7.276190e-01 -7.517676e-01  5.337300e-01  -3.983828e-01   \n",
       "75%    4.717580e-01  7.276190e-01  1.226756e+00  5.337300e-01  -3.983828e-01   \n",
       "max    4.717580e-01  7.276190e-01  2.216018e+00  5.337300e-01   2.505618e+00   \n",
       "\n",
       "       ApplicantIncome  CoapplicantIncome    LoanAmount  Loan_Amount_Term  \\\n",
       "count     5.540000e+02       5.540000e+02  5.540000e+02      5.540000e+02   \n",
       "mean     -1.928862e-17       5.130272e-17  5.545604e-16     -1.376757e-16   \n",
       "std       1.000000e+00       1.000000e+00  1.000000e+00      1.000000e+00   \n",
       "min      -9.380213e-01      -6.280789e-01 -1.677006e+00     -5.097615e+00   \n",
       "25%      -4.442231e-01      -6.280789e-01 -5.546360e-01      2.787575e-01   \n",
       "50%      -2.616896e-01      -1.729365e-01 -2.092913e-01      2.787575e-01   \n",
       "75%       1.011318e-01       2.819087e-01  2.686411e-01      2.787575e-01   \n",
       "max       1.388280e+01       1.277545e+01  6.228920e+00      2.132679e+00   \n",
       "\n",
       "       Credit_History  Property_Area  Loan_Status  \n",
       "count    5.540000e+02   5.540000e+02   554.000000  \n",
       "mean     3.086180e-16   6.509409e-16     0.689531  \n",
       "std      1.000000e+00   1.000000e+00     0.463104  \n",
       "min     -2.431934e+00  -1.309702e+00     0.000000  \n",
       "25%      4.104531e-01  -1.309702e+00     0.000000  \n",
       "50%      4.104531e-01  -3.899287e-02     1.000000  \n",
       "75%      4.104531e-01   1.231716e+00     1.000000  \n",
       "max      4.104531e-01   1.231716e+00     1.000000  "
      ]
     },
     "execution_count": 35,
     "metadata": {},
     "output_type": "execute_result"
    }
   ],
   "source": [
    "data_NN_Norm = data_NN.copy()\n",
    "index = data_NN_Norm.columns.drop(['Loan_Status'])\n",
    "#print(index)\n",
    "for i in range(data_NN_Norm.shape[1]-1):\n",
    "    data_NN_Norm[index[i]] = (data_NN_Norm[index[i]]-data_NN_Norm[index[i]].mean())/data_NN_Norm[index[i]].std()\n",
    "    \n",
    "data_NN_Norm.describe()"
   ]
  },
  {
   "cell_type": "markdown",
   "metadata": {},
   "source": [
    "We divide the data into training, validation and testing datasets using a 60%/20%/20% split, respectively."
   ]
  },
  {
   "cell_type": "code",
   "execution_count": 36,
   "metadata": {},
   "outputs": [],
   "source": [
    "x_train, x_test, y_train, y_test, x_validate, y_validate = shuffleSplit(data_NN_Norm)"
   ]
  },
  {
   "cell_type": "markdown",
   "metadata": {},
   "source": [
    "We retrain the model the same way as before with the normalised data and make predictions on the validataion dataset. We adjust the hyperparameters to try obtain the highest validation accuracy."
   ]
  },
  {
   "cell_type": "code",
   "execution_count": 38,
   "metadata": {},
   "outputs": [
    {
     "name": "stdout",
     "output_type": "stream",
     "text": [
      "-------- Results From Training --------\n"
     ]
    },
    {
     "data": {
      "image/png": "[encoded data removed]",
      "text/plain": [
       "<Figure size 432x288 with 1 Axes>"
      ]
     },
     "metadata": {
      "needs_background": "light"
     },
     "output_type": "display_data"
    },
    {
     "name": "stdout",
     "output_type": "stream",
     "text": [
      "Final Training Error:  15.635454900095844 %\n",
      "\n",
      "\n",
      "-------- Results From Predicting --------\n"
     ]
    },
    {
     "data": {
      "image/png": "[encoded data removed]",
      "text/plain": [
       "<Figure size 432x288 with 2 Axes>"
      ]
     },
     "metadata": {
      "needs_background": "light"
     },
     "output_type": "display_data"
    },
    {
     "name": "stdout",
     "output_type": "stream",
     "text": [
      "\n",
      "\n",
      "              precision    recall  f1-score   support\n",
      "\n",
      "           0       0.60      0.29      0.39        31\n",
      "           1       0.77      0.92      0.84        78\n",
      "\n",
      "    accuracy                           0.74       109\n",
      "   macro avg       0.68      0.61      0.61       109\n",
      "weighted avg       0.72      0.74      0.71       109\n",
      "\n"
     ]
    }
   ],
   "source": [
    "#hyperparameters:\n",
    "hidden = 9 # 9 = best\n",
    "alpha = 0.0001 # 0.0001 = best for Normalised data\n",
    "lamda = 0.001 # = 0.001 = best for L2 regularization\n",
    "\n",
    "#activation function:\n",
    "activation = ReLU\n",
    "dif_activation = dif_ReLU\n",
    "boundary = 0.5\n",
    "\n",
    "#Train neural network:\n",
    "error, theta1, theta2 = feed_forward(x_train, hidden, y_train, alpha, 2000, lamda, activation, dif_activation)\n",
    "\n",
    "#Plot error\n",
    "print(\"-------- Results From Training --------\")\n",
    "plt.plot(np.arange(0,len(error)),error)\n",
    "plt.title(\"Error over Time\")\n",
    "plt.xlabel(\"Epochs\")\n",
    "plt.ylabel(\"Error\")\n",
    "plt.show()  \n",
    "print(\"Final Training Error: \", error[-1]*100,\"%\")\n",
    "\n",
    "#Predict on the validation set\n",
    "predictions = predict(x_validate, hidden, theta1, theta2, activation, boundary)\n",
    "pred_series = pd.Series(predictions)\n",
    "print(\"\\n\")\n",
    "#Plot results on confusion matrix\n",
    "print(\"-------- Results From Predicting --------\")\n",
    "cf_matrix = confusion_matrix(y_validate, predictions)\n",
    "\n",
    "sns.heatmap(cf_matrix, annot=True,cmap=\"YlGnBu\")\n",
    "plt.show()\n",
    "print(\"\\n\")\n",
    "print(classification_report(y_validate, predictions))"
   ]
  },
  {
   "cell_type": "markdown",
   "metadata": {},
   "source": [
    "Once we have achived our best model, we predict using our testing data to immitate unseen data and achieve a final testing accuracy."
   ]
  },
  {
   "cell_type": "code",
   "execution_count": 39,
   "metadata": {},
   "outputs": [
    {
     "name": "stdout",
     "output_type": "stream",
     "text": [
      "\n",
      "\n",
      "-------- Results From Predicting --------\n"
     ]
    },
    {
     "data": {
      "image/png": "[encoded data removed]",
      "text/plain": [
       "<Figure size 432x288 with 2 Axes>"
      ]
     },
     "metadata": {
      "needs_background": "light"
     },
     "output_type": "display_data"
    },
    {
     "name": "stdout",
     "output_type": "stream",
     "text": [
      "\n",
      "\n",
      "              precision    recall  f1-score   support\n",
      "\n",
      "           0       0.75      0.60      0.67        35\n",
      "           1       0.83      0.91      0.87        75\n",
      "\n",
      "    accuracy                           0.81       110\n",
      "   macro avg       0.79      0.75      0.77       110\n",
      "weighted avg       0.80      0.81      0.80       110\n",
      "\n"
     ]
    }
   ],
   "source": [
    "predictions = predict(x_test, hidden, theta1, theta2, activation, boundary)\n",
    "pred_series = pd.Series(predictions)\n",
    "print(\"\\n\")\n",
    "#Plot results on confusion matrix\n",
    "print(\"-------- Results From Predicting --------\")\n",
    "cf_matrix = confusion_matrix(y_test, predictions)\n",
    "sns.heatmap(cf_matrix, annot=True,cmap=\"YlGnBu\")\n",
    "plt.show()\n",
    "print(\"\\n\")\n",
    "print(classification_report(y_test, predictions))"
   ]
  },
  {
   "cell_type": "markdown",
   "metadata": {},
   "source": [
    "### Decision Tree Classifier"
   ]
  },
  {
   "cell_type": "markdown",
   "metadata": {},
   "source": [
    "Firstly , the decision tree classifier is built using sklearn "
   ]
  },
  {
   "cell_type": "code",
   "execution_count": null,
   "metadata": {},
   "outputs": [],
   "source": [
    "loan_tree_classifier = DecisionTreeClassifier()\n",
    "loan_tree_classifier.fit(train_data,train_y)"
   ]
  },
  {
   "cell_type": "markdown",
   "metadata": {},
   "source": [
    "We then use our trained classifier to make predictions on our test data and store it in a variable called predicted_values"
   ]
  },
  {
   "cell_type": "code",
   "execution_count": null,
   "metadata": {},
   "outputs": [],
   "source": [
    "predicted_values = loan_tree_classifier.predict(test_data)"
   ]
  },
  {
   "cell_type": "markdown",
   "metadata": {},
   "source": [
    "The accuracy of the prediction is then calculated. In this case the accuracy is quite low and thats due to the fact that our classifier contains variables that have very little correlation to the class label variable , we can improve accuracy by removing these variables or we can use improvement techniques such as using multiple trees instead of a single decision tree also known as a random forest."
   ]
  },
  {
   "cell_type": "code",
   "execution_count": null,
   "metadata": {},
   "outputs": [],
   "source": [
    "accuracy_score(test_y,predicted_values)*100"
   ]
  },
  {
   "cell_type": "markdown",
   "metadata": {},
   "source": [
    "From the above accuracy we can evaluate that our simple decision trees model is not the best but it is decently accurate. We will try to improve this accuracy in the improved learning section."
   ]
  },
  {
   "cell_type": "code",
   "execution_count": null,
   "metadata": {},
   "outputs": [],
   "source": [
    "log_loss(test_y,predicted_values)"
   ]
  },
  {
   "cell_type": "markdown",
   "metadata": {},
   "source": [
    "Here we calculate the loss above and see that the overall log loss of the model is quite high"
   ]
  },
  {
   "cell_type": "markdown",
   "metadata": {},
   "source": [
    "Display the confusion matrix of the classification of the test data , diagonal elements represent the number of correct classifications whereas other elements represent the number of incorrect classifications."
   ]
  },
  {
   "cell_type": "code",
   "execution_count": null,
   "metadata": {},
   "outputs": [],
   "source": [
    "cf_matrix = confusion_matrix(predicted_values, test_y)\n",
    "# heatmap of confusion matrix for model\n",
    "sns.heatmap(cf_matrix, annot=True,fmt='g')"
   ]
  },
  {
   "cell_type": "markdown",
   "metadata": {},
   "source": [
    "### Improved Learning for Decision Trees"
   ]
  },
  {
   "cell_type": "markdown",
   "metadata": {},
   "source": [
    "#### Remove uncorrelated variables "
   ]
  },
  {
   "cell_type": "markdown",
   "metadata": {},
   "source": [
    "Certain variables weren't correlated with loan status and so in order to improve accuracy of our model we will remove these uncorrelated variables."
   ]
  },
  {
   "cell_type": "code",
   "execution_count": null,
   "metadata": {},
   "outputs": [],
   "source": [
    "imp_train_data = train_data.copy()\n",
    "imp_train_data = imp_train_data.drop(labels=['ApplicantIncome'],axis=1)\n",
    "imp_train_data = imp_train_data.drop(labels=['CoapplicantIncome'],axis=1)\n",
    "imp_train_data = imp_train_data.drop(labels=['LoanAmount'],axis=1)\n",
    "imp_train_data = imp_train_data.drop(labels=['Loan_Amount_Term'],axis=1)\n",
    "\n",
    "imp_test_data = test_data.copy()\n",
    "imp_test_data = imp_test_data.drop(labels=['ApplicantIncome'],axis=1)\n",
    "imp_test_data = imp_test_data.drop(labels=['CoapplicantIncome'],axis=1)\n",
    "imp_test_data = imp_test_data.drop(labels=['LoanAmount'],axis=1)\n",
    "imp_test_data = imp_test_data.drop(labels=['Loan_Amount_Term'],axis=1)"
   ]
  },
  {
   "cell_type": "code",
   "execution_count": null,
   "metadata": {},
   "outputs": [],
   "source": [
    "display(imp_train_data)"
   ]
  },
  {
   "cell_type": "markdown",
   "metadata": {},
   "source": [
    "As we can see above that the uncorrelated variables are removed from the model."
   ]
  },
  {
   "cell_type": "code",
   "execution_count": null,
   "metadata": {},
   "outputs": [],
   "source": [
    "loan_tree_classifier = DecisionTreeClassifier()\n",
    "loan_tree_classifier.fit(imp_train_data,train_y)"
   ]
  },
  {
   "cell_type": "code",
   "execution_count": null,
   "metadata": {},
   "outputs": [],
   "source": [
    "predicted_values_imp = loan_tree_classifier.predict(imp_test_data)"
   ]
  },
  {
   "cell_type": "code",
   "execution_count": null,
   "metadata": {},
   "outputs": [],
   "source": [
    "accuracy_score(test_y,predicted_values_imp)*100"
   ]
  },
  {
   "cell_type": "code",
   "execution_count": null,
   "metadata": {},
   "outputs": [],
   "source": [
    "log_loss(test_y,predicted_values_imp)"
   ]
  },
  {
   "cell_type": "code",
   "execution_count": null,
   "metadata": {},
   "outputs": [],
   "source": [
    "cf_matrix = confusion_matrix(predicted_values_imp, test_y)\n",
    "# heatmap of confusion matrix for model\n",
    "sns.heatmap(cf_matrix, annot=True,fmt='g')"
   ]
  },
  {
   "cell_type": "markdown",
   "metadata": {},
   "source": [
    "Much improved results are seen once the uncorrelated variables are removed."
   ]
  },
  {
   "cell_type": "markdown",
   "metadata": {},
   "source": [
    "Lets investigate if we can improve the results even further with the help of the Random Forest classifer.\n",
    "A random forest is a meta estimator that fits a number of decision tree classifiers on various sub-samples of the dataset and uses averaging to improve the predictive accuracy and control over-fitting. The sub-sample size is controlled with the max_samples parameter if bootstrap=True (default), otherwise the whole dataset is used to build each tree."
   ]
  },
  {
   "cell_type": "code",
   "execution_count": null,
   "metadata": {},
   "outputs": [],
   "source": [
    "from sklearn.ensemble import RandomForestClassifier"
   ]
  },
  {
   "cell_type": "code",
   "execution_count": null,
   "metadata": {},
   "outputs": [],
   "source": [
    "random_forest = RandomForestClassifier(n_estimators=26)\n",
    "random_forest.fit(imp_train_data,train_y)"
   ]
  },
  {
   "cell_type": "markdown",
   "metadata": {},
   "source": [
    "n_estimators is the number of trees you want to build before taking the maximum voting or averages of predictions. Higher number of trees give us better performance but makes our code slower. When we set this value to 26 it was the perfect balance between performance and cost. Cost here refers to the computational workload on our computers."
   ]
  },
  {
   "cell_type": "code",
   "execution_count": null,
   "metadata": {},
   "outputs": [],
   "source": [
    "predicted_values_rf = random_forest.predict(imp_test_data)"
   ]
  },
  {
   "cell_type": "code",
   "execution_count": null,
   "metadata": {},
   "outputs": [],
   "source": [
    "accuracy_score(test_y,predicted_values_rf)*100"
   ]
  },
  {
   "cell_type": "code",
   "execution_count": null,
   "metadata": {},
   "outputs": [],
   "source": [
    "log_loss(test_y,predicted_values_rf)"
   ]
  },
  {
   "cell_type": "code",
   "execution_count": null,
   "metadata": {},
   "outputs": [],
   "source": [
    "cf_matrix = confusion_matrix(predicted_values_rf, test_y)\n",
    "# heatmap of confusion matrix for model\n",
    "sns.heatmap(cf_matrix, annot=True,fmt='g')"
   ]
  },
  {
   "cell_type": "markdown",
   "metadata": {},
   "source": [
    "Random Forest was used to improve the accuracy slightly from our above improved learning algorithm and leaves us with a final accuracy of between 81% and 86% accuracy which is pretty good. "
   ]
  },
  {
   "cell_type": "markdown",
   "metadata": {},
   "source": [
    "## K-Nearest Neighbours"
   ]
  },
  {
   "cell_type": "code",
   "execution_count": null,
   "metadata": {},
   "outputs": [],
   "source": [
    "Y = data_LR[\"Loan_Status\"]\n",
    "X = data_LR.drop(\"Loan_Status\",1)\n",
    "data_LR.head()"
   ]
  },
  {
   "cell_type": "code",
   "execution_count": null,
   "metadata": {},
   "outputs": [],
   "source": []
  },
  {
   "cell_type": "code",
   "execution_count": null,
   "metadata": {},
   "outputs": [],
   "source": [
    "print(x_train.shape)\n",
    "print(len(x_train.columns))\n",
    "print(x_train.columns)"
   ]
  },
  {
   "cell_type": "code",
   "execution_count": null,
   "metadata": {},
   "outputs": [],
   "source": [
    "from sklearn.neighbors import KNeighborsClassifier\n",
    "from sklearn.metrics import classification_report, confusion_matrix"
   ]
  },
  {
   "cell_type": "markdown",
   "metadata": {},
   "source": [
    "The method used below to obtain the results is: shuffle data, make train-test split, create K-Nearest Neighbours classifier using the sklearn library and use a for-loop to find its optimal k-value, and make predictions. This is performed 20 times to find the average max, and minimum of the dataset"
   ]
  },
  {
   "cell_type": "code",
   "execution_count": null,
   "metadata": {},
   "outputs": [],
   "source": [
    "k_arr = np.array([])\n",
    "big_acc_arr = np.array([])\n",
    "ll = np.array([])\n",
    "for i in range(20):\n",
    "    x_train, x_test, y_train, y_test = shuffleSplit(data_NN)\n",
    "    accuracy = np.array([])\n",
    "    for k in range(1,30):\n",
    "        classifier = KNeighborsClassifier(n_neighbors=k)\n",
    "        classifier.fit(x_train, y_train)\n",
    "        y_pred = classifier.predict(x_test)\n",
    "        acc = accuracy_score(y_test,y_pred)*100\n",
    "        accuracy =  np.append(accuracy, acc)\n",
    "        \n",
    "    \n",
    "    #print(np.argmax(accuracy))\n",
    "   # print(accuracy)\n",
    "    k_arr = np.append(k_arr, np.argmax(accuracy)+1)\n",
    "    knn_classifier = KNeighborsClassifier(n_neighbors=np.argmax(accuracy)+1)\n",
    "    knn_classifier.fit(x_train, y_train)\n",
    "    y_pred = knn_classifier.predict(x_test)\n",
    "    big_acc = accuracy_score(y_test,y_pred)*100\n",
    "    big_acc_arr = np.append(big_acc_arr, big_acc)\n",
    "    lloss = log_loss(y_test,y_pred)\n",
    "    ll = np.append(lloss, ll)"
   ]
  },
  {
   "cell_type": "code",
   "execution_count": null,
   "metadata": {},
   "outputs": [],
   "source": [
    "k_arr = pd.Series(k_arr).astype('int')\n",
    "big_acc_arr = pd.Series(big_acc_arr)\n",
    "ll = pd.Series(ll)\n",
    "df_initKNN = pd.concat([ k_arr, big_acc_arr, ll], axis=1)\n",
    "df_initKNN.columns = [\"K Neighbours\", \"Accuracy\", \"Log Loss\"]\n",
    "display(df_initKNN)\n",
    "\n",
    "big_max = pd.Series(big_acc_arr.max())\n",
    "big_min = pd.Series(big_acc_arr.min())\n",
    "big_mean = pd.Series(big_acc_arr.mean())\n",
    "big_loss = pd.Series(ll.mean())\n",
    "\n",
    "df_initStats = pd.concat([big_max, big_min, big_mean, big_loss], axis=0)\n",
    "df_initStats.columns = [\"Accuracy Summary Statistics\"]\n",
    "df_initStats.index = [\"max\", \"min\", \"mean\", \"mean log loss\"]\n",
    "print(\"\\n\")\n",
    "display(df_initStats)"
   ]
  },
  {
   "cell_type": "code",
   "execution_count": null,
   "metadata": {},
   "outputs": [],
   "source": [
    "cf_matrix = confusion_matrix(y_pred, y_test)\n",
    "sns.heatmap(cf_matrix, annot=True,fmt='g')"
   ]
  },
  {
   "cell_type": "markdown",
   "metadata": {},
   "source": [
    "Due to the difficulty of calculating distance between data with a large number of features, as well as distances between categorical features, the categorical features are removed, thus also reducing the number of dimensions"
   ]
  },
  {
   "cell_type": "code",
   "execution_count": null,
   "metadata": {},
   "outputs": [],
   "source": [
    "df_drop = data_NN[[\"Loan_Status\", \"ApplicantIncome\", \"CoapplicantIncome\", \"LoanAmount\", \"Loan_Amount_Term\"]].copy()\n",
    "df_drop.head()"
   ]
  },
  {
   "cell_type": "code",
   "execution_count": null,
   "metadata": {},
   "outputs": [],
   "source": [
    "k_arr = np.array([])\n",
    "big_acc_arr = np.array([])\n",
    "ll = np.array([])\n",
    "for i in range(20):\n",
    "    x_train, x_test, y_train, y_test = shuffleSplit(df_drop)\n",
    "    accuracy = np.array([])\n",
    "    for k in range(1,30):\n",
    "        classifier = KNeighborsClassifier(n_neighbors=k)\n",
    "        classifier.fit(x_train, y_train)\n",
    "        y_pred = classifier.predict(x_test)\n",
    "        acc = accuracy_score(y_test,y_pred)*100\n",
    "        accuracy =  np.append(accuracy, acc)\n",
    "        \n",
    "    \n",
    "    #print(np.argmax(accuracy))\n",
    "   # print(accuracy)\n",
    "    k_arr = np.append(k_arr, np.argmax(accuracy)+1)\n",
    "    knn_classifier = KNeighborsClassifier(n_neighbors=np.argmax(accuracy)+1)\n",
    "    knn_classifier.fit(x_train, y_train)\n",
    "    y_pred = knn_classifier.predict(x_test)\n",
    "    big_acc = accuracy_score(y_test,y_pred)*100\n",
    "    big_acc_arr = np.append(big_acc_arr, big_acc)\n",
    "    lloss = log_loss(y_test,y_pred)\n",
    "    ll = np.append(lloss, ll)"
   ]
  },
  {
   "cell_type": "code",
   "execution_count": null,
   "metadata": {},
   "outputs": [],
   "source": [
    "k_arr = pd.Series(k_arr).astype('int')\n",
    "big_acc_arr = pd.Series(big_acc_arr)\n",
    "ll = pd.Series(ll)\n",
    "df_initKNN = pd.concat([ k_arr, big_acc_arr, ll], axis=1)\n",
    "df_initKNN.columns = [\"K Neighbours\", \"Accuracy\", \"Log Loss\"]\n",
    "display(df_initKNN)\n",
    "\n",
    "big_max = pd.Series(big_acc_arr.max())\n",
    "big_min = pd.Series(big_acc_arr.min())\n",
    "big_mean = pd.Series(big_acc_arr.mean())\n",
    "big_loss = pd.Series(ll.mean())\n",
    "\n",
    "df_initStats = pd.concat([big_max, big_min, big_mean, big_loss], axis=0)\n",
    "df_initStats.columns = [\"Accuracy Summary Statistics\"]\n",
    "df_initStats.index = [\"max\", \"min\", \"mean\", \"mean log loss\"]\n",
    "print(\"\\n\")\n",
    "display(df_initStats)"
   ]
  },
  {
   "cell_type": "code",
   "execution_count": null,
   "metadata": {},
   "outputs": [],
   "source": [
    "cf_matrix = confusion_matrix(y_pred, y_test)\n",
    "sns.heatmap(cf_matrix, annot=True,fmt='g')"
   ]
  },
  {
   "cell_type": "markdown",
   "metadata": {},
   "source": [
    "Perform feature scaling to try increase the prediction accuracy"
   ]
  },
  {
   "cell_type": "code",
   "execution_count": null,
   "metadata": {},
   "outputs": [],
   "source": [
    "from sklearn.preprocessing import MinMaxScaler\n",
    "def scaler(x_train, x_test):\n",
    "    norm = MinMaxScaler().fit(x_train)\n",
    "    x_train_stand = norm.transform(x_train)\n",
    "    x_test_stand = norm.transform(x_test)\n",
    "    return x_train_stand, x_test_stand"
   ]
  },
  {
   "cell_type": "code",
   "execution_count": null,
   "metadata": {},
   "outputs": [],
   "source": [
    "k_arr = np.array([])\n",
    "big_acc_arr = np.array([])\n",
    "ll = np.array([])\n",
    "for i in range(20):\n",
    "    x_train, x_test, y_train, y_test = shuffleSplit(data_NN)\n",
    "    x_train , x_test = scaler(x_train, x_test)\n",
    "    accuracy = np.array([])\n",
    "    for k in range(1,30):\n",
    "        classifier = KNeighborsClassifier(n_neighbors=k)\n",
    "        classifier.fit(x_train, y_train)\n",
    "        y_pred = classifier.predict(x_test)\n",
    "        acc = accuracy_score(y_test,y_pred)*100\n",
    "        accuracy =  np.append(accuracy, acc)\n",
    "        \n",
    "    \n",
    "    #print(np.argmax(accuracy))\n",
    "   # print(accuracy)\n",
    "    k_arr = np.append(k_arr, np.argmax(accuracy)+1)\n",
    "    knn_classifier = KNeighborsClassifier(n_neighbors=np.argmax(accuracy)+1)\n",
    "    knn_classifier.fit(x_train, y_train)\n",
    "    y_pred = knn_classifier.predict(x_test)\n",
    "    big_acc = accuracy_score(y_test,y_pred)*100\n",
    "    big_acc_arr = np.append(big_acc_arr, big_acc)\n",
    "    lloss = log_loss(y_test,y_pred)\n",
    "    ll = np.append(lloss, ll)"
   ]
  },
  {
   "cell_type": "code",
   "execution_count": null,
   "metadata": {},
   "outputs": [],
   "source": [
    "k_arr = pd.Series(k_arr).astype('int')\n",
    "big_acc_arr = pd.Series(big_acc_arr)\n",
    "ll = pd.Series(ll)\n",
    "df_initKNN = pd.concat([ k_arr, big_acc_arr, ll], axis=1)\n",
    "df_initKNN.columns = [\"K Neighbours\", \"Accuracy\", \"Log Loss\"]\n",
    "display(df_initKNN)\n",
    "\n",
    "big_max = pd.Series(big_acc_arr.max())\n",
    "big_min = pd.Series(big_acc_arr.min())\n",
    "big_mean = pd.Series(big_acc_arr.mean())\n",
    "big_loss = pd.Series(ll.mean())\n",
    "\n",
    "df_initStats = pd.concat([big_max, big_min, big_mean, big_loss], axis=0)\n",
    "df_initStats.columns = [\"Accuracy Summary Statistics\"]\n",
    "df_initStats.index = [\"max\", \"min\", \"mean\", \"mean log loss\"]\n",
    "print(\"\\n\")\n",
    "display(df_initStats)"
   ]
  },
  {
   "cell_type": "code",
   "execution_count": null,
   "metadata": {},
   "outputs": [],
   "source": [
    "cf_matrix = confusion_matrix(y_pred, y_test)\n",
    "sns.heatmap(cf_matrix, annot=True,fmt='g')"
   ]
  },
  {
   "cell_type": "code",
   "execution_count": null,
   "metadata": {},
   "outputs": [],
   "source": [
    "print(confusion_matrix(y_test, y_pred_stand))\n",
    "print(classification_report(y_test, y_pred_stand))"
   ]
  },
  {
   "cell_type": "markdown",
   "metadata": {},
   "source": [
    "Perform feature normalization to try increase prediction accuracy"
   ]
  },
  {
   "cell_type": "code",
   "execution_count": null,
   "metadata": {},
   "outputs": [],
   "source": [
    "from sklearn.preprocessing import StandardScaler\n",
    "def norm(x_train, x_test)\n",
    "x_train_norm = x_train_new.copy()\n",
    "x_test_norm = x_test_new.copy()\n",
    "\n",
    "num_cols = [ \"ApplicantIncome\", \"CoapplicantIncome\", \"LoanAmount\", \"Loan_Amount_Term\"]\n",
    "\n",
    "for i in num_cols:\n",
    "    \n",
    "    scale = StandardScaler().fit(x_train_norm[[i]])\n",
    "    x_train_norm[i] = scale.transform(x_train_norm[[i]])\n",
    "    x_test_norm[i] = scale.transform(x_test_norm[[i]])\n",
    "    \n",
    "print(x_test_norm)"
   ]
  },
  {
   "cell_type": "code",
   "execution_count": null,
   "metadata": {},
   "outputs": [],
   "source": [
    "accuracy_norm = np.array([])\n",
    "for k in range(1,50):\n",
    "    classifier = KNeighborsClassifier(n_neighbors=k)\n",
    "    classifier.fit(x_train_norm, y_train)\n",
    "    y_pred_norm = classifier.predict(x_test_norm)\n",
    "    acc = accuracy_score(y_test,y_pred_norm)*100\n",
    "    accuracy_norm =  np.append(accuracy_norm, acc)\n",
    "    \n",
    "print(np.argmax(accuracy_norm))\n",
    "print(accuracy_norm)"
   ]
  },
  {
   "cell_type": "code",
   "execution_count": null,
   "metadata": {},
   "outputs": [],
   "source": [
    "knn_classifier = KNeighborsClassifier(n_neighbors=31)\n",
    "knn_classifier.fit(x_train_norm, y_train)\n",
    "y_pred_norm = knn_classifier.predict(x_test_norm)"
   ]
  },
  {
   "cell_type": "code",
   "execution_count": null,
   "metadata": {},
   "outputs": [],
   "source": [
    "accuracy_score(y_test,y_pred_norm)*100"
   ]
  },
  {
   "cell_type": "code",
   "execution_count": null,
   "metadata": {},
   "outputs": [],
   "source": []
  }
 ],
 "metadata": {
  "kernelspec": {
   "display_name": "Python 3",
   "language": "python",
   "name": "python3"
  },
  "language_info": {
   "codemirror_mode": {
    "name": "ipython",
    "version": 3
   },
   "file_extension": ".py",
   "mimetype": "text/x-python",
   "name": "python",
   "nbconvert_exporter": "python",
   "pygments_lexer": "ipython3",
   "version": "3.7.4"
  }
 },
 "nbformat": 4,
 "nbformat_minor": 4
}
